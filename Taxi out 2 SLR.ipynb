{
 "cells": [
  {
   "cell_type": "markdown",
   "metadata": {},
   "source": [
    "## LABEL ENCODING VS ONE HOT ENCODING"
   ]
  },
  {
   "cell_type": "code",
   "execution_count": 1,
   "metadata": {},
   "outputs": [],
   "source": [
    "import pandas as pd\n",
    "import numpy as np\n",
    "import seaborn as sns\n",
    "import matplotlib.pyplot as plt\n",
    "import warnings\n",
    "warnings.filterwarnings('ignore')\n",
    "from sklearn.preprocessing import LabelEncoder, OneHotEncoder\n",
    "from sklearn.model_selection import train_test_split\n",
    "import math\n",
    "from sklearn.metrics import mean_squared_error\n",
    "from sklearn.linear_model import LinearRegression\n",
    "from sklearn.linear_model import Ridge\n",
    "from sklearn.linear_model import Lasso\n",
    "from sklearn.neighbors import KNeighborsClassifier\n",
    "from sklearn.svm import SVR\n",
    "from sklearn.naive_bayes import GaussianNB\n",
    "from sklearn.ensemble import RandomForestClassifier\n",
    "import lightgbm as lgb"
   ]
  },
  {
   "cell_type": "markdown",
   "metadata": {},
   "source": [
    "#### Reading the dataset"
   ]
  },
  {
   "cell_type": "code",
   "execution_count": 2,
   "metadata": {},
   "outputs": [],
   "source": [
    "df = pd.read_csv('Taxi_out_processed.csv')\n",
    "df = df.drop('Unnamed: 0',1)\n",
    "df1 = pd.read_csv('Taxi_out_processed.csv')\n",
    "df1 = df1.drop('Unnamed: 0',1)"
   ]
  },
  {
   "cell_type": "code",
   "execution_count": 3,
   "metadata": {},
   "outputs": [
    {
     "data": {
      "text/html": [
       "<div>\n",
       "<style scoped>\n",
       "    .dataframe tbody tr th:only-of-type {\n",
       "        vertical-align: middle;\n",
       "    }\n",
       "\n",
       "    .dataframe tbody tr th {\n",
       "        vertical-align: top;\n",
       "    }\n",
       "\n",
       "    .dataframe thead th {\n",
       "        text-align: right;\n",
       "    }\n",
       "</style>\n",
       "<table border=\"1\" class=\"dataframe\">\n",
       "  <thead>\n",
       "    <tr style=\"text-align: right;\">\n",
       "      <th></th>\n",
       "      <th>DAY_OF_WEEK</th>\n",
       "      <th>CARRIER_CODE</th>\n",
       "      <th>DEST</th>\n",
       "      <th>DEP_DELAY</th>\n",
       "      <th>SCHEDULED_DURATION</th>\n",
       "      <th>DISTANCE</th>\n",
       "      <th>SCHEDULED_DEPARTURE</th>\n",
       "      <th>ACTUAL_DEPATURE</th>\n",
       "      <th>SCHEDULED_ARRIVAL</th>\n",
       "      <th>Temperature</th>\n",
       "      <th>...</th>\n",
       "      <th>Wind Gust</th>\n",
       "      <th>Pressure</th>\n",
       "      <th>Condition</th>\n",
       "      <th>FLT_SCH_DEPATURE</th>\n",
       "      <th>FLT_SCH_ARRIVAL</th>\n",
       "      <th>TAXI_OUT</th>\n",
       "      <th>SPEED</th>\n",
       "      <th>Region</th>\n",
       "      <th>TOTAL_SCHEDULED</th>\n",
       "      <th>FLIGHT_TRAFFIC</th>\n",
       "    </tr>\n",
       "  </thead>\n",
       "  <tbody>\n",
       "    <tr>\n",
       "      <th>0</th>\n",
       "      <td>5</td>\n",
       "      <td>DL</td>\n",
       "      <td>SFO</td>\n",
       "      <td>EARLY</td>\n",
       "      <td>6.516667</td>\n",
       "      <td>4161.75324</td>\n",
       "      <td>420</td>\n",
       "      <td>414</td>\n",
       "      <td>631</td>\n",
       "      <td>47</td>\n",
       "      <td>...</td>\n",
       "      <td>29</td>\n",
       "      <td>30.0</td>\n",
       "      <td>Fair / Windy</td>\n",
       "      <td>17</td>\n",
       "      <td>21</td>\n",
       "      <td>16</td>\n",
       "      <td>638.632211</td>\n",
       "      <td>West</td>\n",
       "      <td>38</td>\n",
       "      <td>Medium</td>\n",
       "    </tr>\n",
       "    <tr>\n",
       "      <th>1</th>\n",
       "      <td>5</td>\n",
       "      <td>DL</td>\n",
       "      <td>SLC</td>\n",
       "      <td>EARLY</td>\n",
       "      <td>5.350000</td>\n",
       "      <td>3202.58660</td>\n",
       "      <td>419</td>\n",
       "      <td>414</td>\n",
       "      <td>620</td>\n",
       "      <td>47</td>\n",
       "      <td>...</td>\n",
       "      <td>29</td>\n",
       "      <td>30.0</td>\n",
       "      <td>Fair / Windy</td>\n",
       "      <td>17</td>\n",
       "      <td>21</td>\n",
       "      <td>25</td>\n",
       "      <td>598.614318</td>\n",
       "      <td>West</td>\n",
       "      <td>38</td>\n",
       "      <td>Medium</td>\n",
       "    </tr>\n",
       "    <tr>\n",
       "      <th>2</th>\n",
       "      <td>5</td>\n",
       "      <td>DL</td>\n",
       "      <td>BOS</td>\n",
       "      <td>EARLY</td>\n",
       "      <td>1.366667</td>\n",
       "      <td>300.94658</td>\n",
       "      <td>420</td>\n",
       "      <td>415</td>\n",
       "      <td>502</td>\n",
       "      <td>47</td>\n",
       "      <td>...</td>\n",
       "      <td>29</td>\n",
       "      <td>30.0</td>\n",
       "      <td>Fair / Windy</td>\n",
       "      <td>17</td>\n",
       "      <td>21</td>\n",
       "      <td>15</td>\n",
       "      <td>220.204815</td>\n",
       "      <td>North East</td>\n",
       "      <td>38</td>\n",
       "      <td>Medium</td>\n",
       "    </tr>\n",
       "    <tr>\n",
       "      <th>3</th>\n",
       "      <td>5</td>\n",
       "      <td>B6</td>\n",
       "      <td>SAV</td>\n",
       "      <td>EARLY</td>\n",
       "      <td>2.383333</td>\n",
       "      <td>1155.50612</td>\n",
       "      <td>419</td>\n",
       "      <td>417</td>\n",
       "      <td>562</td>\n",
       "      <td>47</td>\n",
       "      <td>...</td>\n",
       "      <td>29</td>\n",
       "      <td>30.0</td>\n",
       "      <td>Fair / Windy</td>\n",
       "      <td>17</td>\n",
       "      <td>21</td>\n",
       "      <td>14</td>\n",
       "      <td>484.827743</td>\n",
       "      <td>South</td>\n",
       "      <td>38</td>\n",
       "      <td>Medium</td>\n",
       "    </tr>\n",
       "    <tr>\n",
       "      <th>4</th>\n",
       "      <td>5</td>\n",
       "      <td>B6</td>\n",
       "      <td>ATL</td>\n",
       "      <td>ONTIME</td>\n",
       "      <td>2.566667</td>\n",
       "      <td>1223.09840</td>\n",
       "      <td>418</td>\n",
       "      <td>418</td>\n",
       "      <td>572</td>\n",
       "      <td>47</td>\n",
       "      <td>...</td>\n",
       "      <td>29</td>\n",
       "      <td>30.0</td>\n",
       "      <td>Fair / Windy</td>\n",
       "      <td>17</td>\n",
       "      <td>21</td>\n",
       "      <td>16</td>\n",
       "      <td>476.531844</td>\n",
       "      <td>South</td>\n",
       "      <td>38</td>\n",
       "      <td>Medium</td>\n",
       "    </tr>\n",
       "  </tbody>\n",
       "</table>\n",
       "<p>5 rows × 24 columns</p>\n",
       "</div>"
      ],
      "text/plain": [
       "   DAY_OF_WEEK CARRIER_CODE DEST DEP_DELAY  SCHEDULED_DURATION    DISTANCE  \\\n",
       "0            5           DL  SFO     EARLY            6.516667  4161.75324   \n",
       "1            5           DL  SLC     EARLY            5.350000  3202.58660   \n",
       "2            5           DL  BOS     EARLY            1.366667   300.94658   \n",
       "3            5           B6  SAV     EARLY            2.383333  1155.50612   \n",
       "4            5           B6  ATL    ONTIME            2.566667  1223.09840   \n",
       "\n",
       "   SCHEDULED_DEPARTURE  ACTUAL_DEPATURE  SCHEDULED_ARRIVAL  Temperature  ...  \\\n",
       "0                  420              414                631           47  ...   \n",
       "1                  419              414                620           47  ...   \n",
       "2                  420              415                502           47  ...   \n",
       "3                  419              417                562           47  ...   \n",
       "4                  418              418                572           47  ...   \n",
       "\n",
       "   Wind Gust  Pressure     Condition  FLT_SCH_DEPATURE  FLT_SCH_ARRIVAL  \\\n",
       "0         29      30.0  Fair / Windy                17               21   \n",
       "1         29      30.0  Fair / Windy                17               21   \n",
       "2         29      30.0  Fair / Windy                17               21   \n",
       "3         29      30.0  Fair / Windy                17               21   \n",
       "4         29      30.0  Fair / Windy                17               21   \n",
       "\n",
       "   TAXI_OUT       SPEED      Region  TOTAL_SCHEDULED  FLIGHT_TRAFFIC  \n",
       "0        16  638.632211        West               38          Medium  \n",
       "1        25  598.614318        West               38          Medium  \n",
       "2        15  220.204815  North East               38          Medium  \n",
       "3        14  484.827743       South               38          Medium  \n",
       "4        16  476.531844       South               38          Medium  \n",
       "\n",
       "[5 rows x 24 columns]"
      ]
     },
     "execution_count": 3,
     "metadata": {},
     "output_type": "execute_result"
    }
   ],
   "source": [
    "df.head()"
   ]
  },
  {
   "cell_type": "markdown",
   "metadata": {},
   "source": [
    "#### NUMERICAL AND CATEGORICAL COLUMNS"
   ]
  },
  {
   "cell_type": "code",
   "execution_count": 4,
   "metadata": {},
   "outputs": [
    {
     "data": {
      "text/plain": [
       "Index(['CARRIER_CODE', 'DEST', 'DEP_DELAY', 'Wind', 'Condition', 'Region',\n",
       "       'FLIGHT_TRAFFIC'],\n",
       "      dtype='object')"
      ]
     },
     "execution_count": 4,
     "metadata": {},
     "output_type": "execute_result"
    }
   ],
   "source": [
    "cat = df.select_dtypes(include = 'object')\n",
    "cat.columns"
   ]
  },
  {
   "cell_type": "code",
   "execution_count": 5,
   "metadata": {},
   "outputs": [
    {
     "data": {
      "text/html": [
       "<div>\n",
       "<style scoped>\n",
       "    .dataframe tbody tr th:only-of-type {\n",
       "        vertical-align: middle;\n",
       "    }\n",
       "\n",
       "    .dataframe tbody tr th {\n",
       "        vertical-align: top;\n",
       "    }\n",
       "\n",
       "    .dataframe thead th {\n",
       "        text-align: right;\n",
       "    }\n",
       "</style>\n",
       "<table border=\"1\" class=\"dataframe\">\n",
       "  <thead>\n",
       "    <tr style=\"text-align: right;\">\n",
       "      <th></th>\n",
       "      <th>CARRIER_CODE</th>\n",
       "      <th>DEST</th>\n",
       "      <th>DEP_DELAY</th>\n",
       "      <th>Wind</th>\n",
       "      <th>Condition</th>\n",
       "      <th>Region</th>\n",
       "      <th>FLIGHT_TRAFFIC</th>\n",
       "    </tr>\n",
       "  </thead>\n",
       "  <tbody>\n",
       "    <tr>\n",
       "      <th>0</th>\n",
       "      <td>DL</td>\n",
       "      <td>SFO</td>\n",
       "      <td>EARLY</td>\n",
       "      <td>W</td>\n",
       "      <td>Fair / Windy</td>\n",
       "      <td>West</td>\n",
       "      <td>Medium</td>\n",
       "    </tr>\n",
       "    <tr>\n",
       "      <th>1</th>\n",
       "      <td>DL</td>\n",
       "      <td>SLC</td>\n",
       "      <td>EARLY</td>\n",
       "      <td>W</td>\n",
       "      <td>Fair / Windy</td>\n",
       "      <td>West</td>\n",
       "      <td>Medium</td>\n",
       "    </tr>\n",
       "  </tbody>\n",
       "</table>\n",
       "</div>"
      ],
      "text/plain": [
       "  CARRIER_CODE DEST DEP_DELAY Wind     Condition Region FLIGHT_TRAFFIC\n",
       "0           DL  SFO     EARLY    W  Fair / Windy   West         Medium\n",
       "1           DL  SLC     EARLY    W  Fair / Windy   West         Medium"
      ]
     },
     "execution_count": 5,
     "metadata": {},
     "output_type": "execute_result"
    }
   ],
   "source": [
    "cat.head(2)"
   ]
  },
  {
   "cell_type": "code",
   "execution_count": 6,
   "metadata": {
    "scrolled": true
   },
   "outputs": [
    {
     "data": {
      "text/plain": [
       "Index(['DAY_OF_WEEK', 'SCHEDULED_DURATION', 'DISTANCE', 'SCHEDULED_DEPARTURE',\n",
       "       'ACTUAL_DEPATURE', 'SCHEDULED_ARRIVAL', 'Temperature', 'Dew Point',\n",
       "       'Humidity', 'Wind Speed', 'Wind Gust', 'Pressure', 'FLT_SCH_DEPATURE',\n",
       "       'FLT_SCH_ARRIVAL', 'TAXI_OUT', 'SPEED', 'TOTAL_SCHEDULED'],\n",
       "      dtype='object')"
      ]
     },
     "execution_count": 6,
     "metadata": {},
     "output_type": "execute_result"
    }
   ],
   "source": [
    "num = df.select_dtypes(exclude = 'object')\n",
    "num.columns"
   ]
  },
  {
   "cell_type": "code",
   "execution_count": 7,
   "metadata": {},
   "outputs": [
    {
     "data": {
      "text/html": [
       "<div>\n",
       "<style scoped>\n",
       "    .dataframe tbody tr th:only-of-type {\n",
       "        vertical-align: middle;\n",
       "    }\n",
       "\n",
       "    .dataframe tbody tr th {\n",
       "        vertical-align: top;\n",
       "    }\n",
       "\n",
       "    .dataframe thead th {\n",
       "        text-align: right;\n",
       "    }\n",
       "</style>\n",
       "<table border=\"1\" class=\"dataframe\">\n",
       "  <thead>\n",
       "    <tr style=\"text-align: right;\">\n",
       "      <th></th>\n",
       "      <th>DAY_OF_WEEK</th>\n",
       "      <th>SCHEDULED_DURATION</th>\n",
       "      <th>DISTANCE</th>\n",
       "      <th>SCHEDULED_DEPARTURE</th>\n",
       "      <th>ACTUAL_DEPATURE</th>\n",
       "      <th>SCHEDULED_ARRIVAL</th>\n",
       "      <th>Temperature</th>\n",
       "      <th>Dew Point</th>\n",
       "      <th>Humidity</th>\n",
       "      <th>Wind Speed</th>\n",
       "      <th>Wind Gust</th>\n",
       "      <th>Pressure</th>\n",
       "      <th>FLT_SCH_DEPATURE</th>\n",
       "      <th>FLT_SCH_ARRIVAL</th>\n",
       "      <th>TAXI_OUT</th>\n",
       "      <th>SPEED</th>\n",
       "      <th>TOTAL_SCHEDULED</th>\n",
       "    </tr>\n",
       "  </thead>\n",
       "  <tbody>\n",
       "    <tr>\n",
       "      <th>0</th>\n",
       "      <td>5</td>\n",
       "      <td>6.516667</td>\n",
       "      <td>4161.75324</td>\n",
       "      <td>420</td>\n",
       "      <td>414</td>\n",
       "      <td>631</td>\n",
       "      <td>47</td>\n",
       "      <td>33</td>\n",
       "      <td>59</td>\n",
       "      <td>24</td>\n",
       "      <td>29</td>\n",
       "      <td>30.0</td>\n",
       "      <td>17</td>\n",
       "      <td>21</td>\n",
       "      <td>16</td>\n",
       "      <td>638.632211</td>\n",
       "      <td>38</td>\n",
       "    </tr>\n",
       "    <tr>\n",
       "      <th>1</th>\n",
       "      <td>5</td>\n",
       "      <td>5.350000</td>\n",
       "      <td>3202.58660</td>\n",
       "      <td>419</td>\n",
       "      <td>414</td>\n",
       "      <td>620</td>\n",
       "      <td>47</td>\n",
       "      <td>33</td>\n",
       "      <td>59</td>\n",
       "      <td>24</td>\n",
       "      <td>29</td>\n",
       "      <td>30.0</td>\n",
       "      <td>17</td>\n",
       "      <td>21</td>\n",
       "      <td>25</td>\n",
       "      <td>598.614318</td>\n",
       "      <td>38</td>\n",
       "    </tr>\n",
       "  </tbody>\n",
       "</table>\n",
       "</div>"
      ],
      "text/plain": [
       "   DAY_OF_WEEK  SCHEDULED_DURATION    DISTANCE  SCHEDULED_DEPARTURE  \\\n",
       "0            5            6.516667  4161.75324                  420   \n",
       "1            5            5.350000  3202.58660                  419   \n",
       "\n",
       "   ACTUAL_DEPATURE  SCHEDULED_ARRIVAL  Temperature  Dew Point  Humidity  \\\n",
       "0              414                631           47         33        59   \n",
       "1              414                620           47         33        59   \n",
       "\n",
       "   Wind Speed  Wind Gust  Pressure  FLT_SCH_DEPATURE  FLT_SCH_ARRIVAL  \\\n",
       "0          24         29      30.0                17               21   \n",
       "1          24         29      30.0                17               21   \n",
       "\n",
       "   TAXI_OUT       SPEED  TOTAL_SCHEDULED  \n",
       "0        16  638.632211               38  \n",
       "1        25  598.614318               38  "
      ]
     },
     "execution_count": 7,
     "metadata": {},
     "output_type": "execute_result"
    }
   ],
   "source": [
    "num.head(2)"
   ]
  },
  {
   "cell_type": "markdown",
   "metadata": {},
   "source": [
    "### Label Encoding"
   ]
  },
  {
   "cell_type": "code",
   "execution_count": 8,
   "metadata": {},
   "outputs": [],
   "source": [
    "le=LabelEncoder()\n",
    "for i in df.columns:\n",
    "    if df[i].dtypes == 'object':\n",
    "        df[i] = le.fit_transform(df[i])"
   ]
  },
  {
   "cell_type": "code",
   "execution_count": 9,
   "metadata": {},
   "outputs": [
    {
     "data": {
      "text/html": [
       "<div>\n",
       "<style scoped>\n",
       "    .dataframe tbody tr th:only-of-type {\n",
       "        vertical-align: middle;\n",
       "    }\n",
       "\n",
       "    .dataframe tbody tr th {\n",
       "        vertical-align: top;\n",
       "    }\n",
       "\n",
       "    .dataframe thead th {\n",
       "        text-align: right;\n",
       "    }\n",
       "</style>\n",
       "<table border=\"1\" class=\"dataframe\">\n",
       "  <thead>\n",
       "    <tr style=\"text-align: right;\">\n",
       "      <th></th>\n",
       "      <th>DAY_OF_WEEK</th>\n",
       "      <th>CARRIER_CODE</th>\n",
       "      <th>DEST</th>\n",
       "      <th>DEP_DELAY</th>\n",
       "      <th>SCHEDULED_DURATION</th>\n",
       "      <th>DISTANCE</th>\n",
       "      <th>SCHEDULED_DEPARTURE</th>\n",
       "      <th>ACTUAL_DEPATURE</th>\n",
       "      <th>SCHEDULED_ARRIVAL</th>\n",
       "      <th>Temperature</th>\n",
       "      <th>...</th>\n",
       "      <th>Wind Gust</th>\n",
       "      <th>Pressure</th>\n",
       "      <th>Condition</th>\n",
       "      <th>FLT_SCH_DEPATURE</th>\n",
       "      <th>FLT_SCH_ARRIVAL</th>\n",
       "      <th>TAXI_OUT</th>\n",
       "      <th>SPEED</th>\n",
       "      <th>Region</th>\n",
       "      <th>TOTAL_SCHEDULED</th>\n",
       "      <th>FLIGHT_TRAFFIC</th>\n",
       "    </tr>\n",
       "  </thead>\n",
       "  <tbody>\n",
       "    <tr>\n",
       "      <th>0</th>\n",
       "      <td>5</td>\n",
       "      <td>4</td>\n",
       "      <td>50</td>\n",
       "      <td>1</td>\n",
       "      <td>6.516667</td>\n",
       "      <td>4161.75324</td>\n",
       "      <td>420</td>\n",
       "      <td>414</td>\n",
       "      <td>631</td>\n",
       "      <td>47</td>\n",
       "      <td>...</td>\n",
       "      <td>29</td>\n",
       "      <td>30.0</td>\n",
       "      <td>3</td>\n",
       "      <td>17</td>\n",
       "      <td>21</td>\n",
       "      <td>16</td>\n",
       "      <td>638.632211</td>\n",
       "      <td>3</td>\n",
       "      <td>38</td>\n",
       "      <td>1</td>\n",
       "    </tr>\n",
       "    <tr>\n",
       "      <th>1</th>\n",
       "      <td>5</td>\n",
       "      <td>4</td>\n",
       "      <td>52</td>\n",
       "      <td>1</td>\n",
       "      <td>5.350000</td>\n",
       "      <td>3202.58660</td>\n",
       "      <td>419</td>\n",
       "      <td>414</td>\n",
       "      <td>620</td>\n",
       "      <td>47</td>\n",
       "      <td>...</td>\n",
       "      <td>29</td>\n",
       "      <td>30.0</td>\n",
       "      <td>3</td>\n",
       "      <td>17</td>\n",
       "      <td>21</td>\n",
       "      <td>25</td>\n",
       "      <td>598.614318</td>\n",
       "      <td>3</td>\n",
       "      <td>38</td>\n",
       "      <td>1</td>\n",
       "    </tr>\n",
       "    <tr>\n",
       "      <th>2</th>\n",
       "      <td>5</td>\n",
       "      <td>4</td>\n",
       "      <td>4</td>\n",
       "      <td>1</td>\n",
       "      <td>1.366667</td>\n",
       "      <td>300.94658</td>\n",
       "      <td>420</td>\n",
       "      <td>415</td>\n",
       "      <td>502</td>\n",
       "      <td>47</td>\n",
       "      <td>...</td>\n",
       "      <td>29</td>\n",
       "      <td>30.0</td>\n",
       "      <td>3</td>\n",
       "      <td>17</td>\n",
       "      <td>21</td>\n",
       "      <td>15</td>\n",
       "      <td>220.204815</td>\n",
       "      <td>1</td>\n",
       "      <td>38</td>\n",
       "      <td>1</td>\n",
       "    </tr>\n",
       "    <tr>\n",
       "      <th>3</th>\n",
       "      <td>5</td>\n",
       "      <td>3</td>\n",
       "      <td>48</td>\n",
       "      <td>1</td>\n",
       "      <td>2.383333</td>\n",
       "      <td>1155.50612</td>\n",
       "      <td>419</td>\n",
       "      <td>417</td>\n",
       "      <td>562</td>\n",
       "      <td>47</td>\n",
       "      <td>...</td>\n",
       "      <td>29</td>\n",
       "      <td>30.0</td>\n",
       "      <td>3</td>\n",
       "      <td>17</td>\n",
       "      <td>21</td>\n",
       "      <td>14</td>\n",
       "      <td>484.827743</td>\n",
       "      <td>2</td>\n",
       "      <td>38</td>\n",
       "      <td>1</td>\n",
       "    </tr>\n",
       "    <tr>\n",
       "      <th>4</th>\n",
       "      <td>5</td>\n",
       "      <td>3</td>\n",
       "      <td>1</td>\n",
       "      <td>2</td>\n",
       "      <td>2.566667</td>\n",
       "      <td>1223.09840</td>\n",
       "      <td>418</td>\n",
       "      <td>418</td>\n",
       "      <td>572</td>\n",
       "      <td>47</td>\n",
       "      <td>...</td>\n",
       "      <td>29</td>\n",
       "      <td>30.0</td>\n",
       "      <td>3</td>\n",
       "      <td>17</td>\n",
       "      <td>21</td>\n",
       "      <td>16</td>\n",
       "      <td>476.531844</td>\n",
       "      <td>2</td>\n",
       "      <td>38</td>\n",
       "      <td>1</td>\n",
       "    </tr>\n",
       "  </tbody>\n",
       "</table>\n",
       "<p>5 rows × 24 columns</p>\n",
       "</div>"
      ],
      "text/plain": [
       "   DAY_OF_WEEK  CARRIER_CODE  DEST  DEP_DELAY  SCHEDULED_DURATION    DISTANCE  \\\n",
       "0            5             4    50          1            6.516667  4161.75324   \n",
       "1            5             4    52          1            5.350000  3202.58660   \n",
       "2            5             4     4          1            1.366667   300.94658   \n",
       "3            5             3    48          1            2.383333  1155.50612   \n",
       "4            5             3     1          2            2.566667  1223.09840   \n",
       "\n",
       "   SCHEDULED_DEPARTURE  ACTUAL_DEPATURE  SCHEDULED_ARRIVAL  Temperature  ...  \\\n",
       "0                  420              414                631           47  ...   \n",
       "1                  419              414                620           47  ...   \n",
       "2                  420              415                502           47  ...   \n",
       "3                  419              417                562           47  ...   \n",
       "4                  418              418                572           47  ...   \n",
       "\n",
       "   Wind Gust  Pressure  Condition  FLT_SCH_DEPATURE  FLT_SCH_ARRIVAL  \\\n",
       "0         29      30.0          3                17               21   \n",
       "1         29      30.0          3                17               21   \n",
       "2         29      30.0          3                17               21   \n",
       "3         29      30.0          3                17               21   \n",
       "4         29      30.0          3                17               21   \n",
       "\n",
       "   TAXI_OUT       SPEED  Region  TOTAL_SCHEDULED  FLIGHT_TRAFFIC  \n",
       "0        16  638.632211       3               38               1  \n",
       "1        25  598.614318       3               38               1  \n",
       "2        15  220.204815       1               38               1  \n",
       "3        14  484.827743       2               38               1  \n",
       "4        16  476.531844       2               38               1  \n",
       "\n",
       "[5 rows x 24 columns]"
      ]
     },
     "execution_count": 9,
     "metadata": {},
     "output_type": "execute_result"
    }
   ],
   "source": [
    "df.head()"
   ]
  },
  {
   "cell_type": "markdown",
   "metadata": {},
   "source": [
    "#### Splitting of data"
   ]
  },
  {
   "cell_type": "code",
   "execution_count": 10,
   "metadata": {},
   "outputs": [],
   "source": [
    "inp=df.drop('TAXI_OUT',axis=1)\n",
    "out=df['TAXI_OUT']"
   ]
  },
  {
   "cell_type": "code",
   "execution_count": 11,
   "metadata": {},
   "outputs": [
    {
     "data": {
      "text/plain": [
       "((8869, 23), (3802, 23), (8869,), (3802,))"
      ]
     },
     "execution_count": 11,
     "metadata": {},
     "output_type": "execute_result"
    }
   ],
   "source": [
    "xtr,xt,ytr,yt=train_test_split(inp,out,test_size=0.3,random_state=100)\n",
    "xtr.shape,xt.shape,ytr.shape,yt.shape"
   ]
  },
  {
   "cell_type": "markdown",
   "metadata": {},
   "source": [
    "Linear Regression"
   ]
  },
  {
   "cell_type": "code",
   "execution_count": 12,
   "metadata": {},
   "outputs": [],
   "source": [
    "err_lab=[]"
   ]
  },
  {
   "cell_type": "code",
   "execution_count": 13,
   "metadata": {},
   "outputs": [],
   "source": [
    "lr0 = LinearRegression()\n",
    "lr0.fit(xtr, ytr)\n",
    "x_lr0=lr0.predict(xt)\n",
    "temp= math.sqrt(mean_squared_error(yt,x_lr0))\n",
    "err_lab.append(temp)"
   ]
  },
  {
   "cell_type": "markdown",
   "metadata": {},
   "source": [
    "Ridge Regression"
   ]
  },
  {
   "cell_type": "code",
   "execution_count": 14,
   "metadata": {},
   "outputs": [],
   "source": [
    "lr1 = Ridge(alpha=0.5, normalize = True)\n",
    "lr1.fit(xtr, ytr)\n",
    "x_lr1=lr1.predict(xt)\n",
    "temp= math.sqrt(mean_squared_error(yt,x_lr1))\n",
    "err_lab.append(temp)"
   ]
  },
  {
   "cell_type": "markdown",
   "metadata": {},
   "source": [
    "Lasso Regression"
   ]
  },
  {
   "cell_type": "code",
   "execution_count": 15,
   "metadata": {},
   "outputs": [],
   "source": [
    "lr2 = Lasso(alpha=0.1)\n",
    "lr2.fit(xtr, ytr)\n",
    "x_lr2=lr2.predict(xt)\n",
    "temp= math.sqrt(mean_squared_error(yt,x_lr2))\n",
    "err_lab.append(temp)"
   ]
  },
  {
   "cell_type": "markdown",
   "metadata": {},
   "source": [
    "KNeighbors Classifier"
   ]
  },
  {
   "cell_type": "code",
   "execution_count": 16,
   "metadata": {},
   "outputs": [],
   "source": [
    "knn= KNeighborsClassifier(n_neighbors=10)\n",
    "knn_pred= knn.fit(xtr,ytr.values.ravel()).predict(xt)\n",
    "temp= math.sqrt(mean_squared_error(yt,knn_pred))\n",
    "err_lab.append(temp)"
   ]
  },
  {
   "cell_type": "markdown",
   "metadata": {},
   "source": [
    "Support Vector Regression"
   ]
  },
  {
   "cell_type": "code",
   "execution_count": 17,
   "metadata": {},
   "outputs": [],
   "source": [
    "reg= SVR(kernel='rbf')\n",
    "reg.fit(xtr,ytr.values.ravel())\n",
    "svr_pred= reg.predict(xt)\n",
    "temp= math.sqrt(mean_squared_error(yt,svr_pred))\n",
    "err_lab.append(temp)"
   ]
  },
  {
   "cell_type": "markdown",
   "metadata": {},
   "source": [
    "Gaussian Naive Bayes"
   ]
  },
  {
   "cell_type": "code",
   "execution_count": 18,
   "metadata": {},
   "outputs": [],
   "source": [
    "gnb= GaussianNB()\n",
    "gnb_pred= gnb.fit(xtr,ytr.values.ravel()).predict(xt)\n",
    "temp= math.sqrt(mean_squared_error(yt,gnb_pred))\n",
    "err_lab.append(temp)"
   ]
  },
  {
   "cell_type": "markdown",
   "metadata": {},
   "source": [
    "Random Forest Classifier"
   ]
  },
  {
   "cell_type": "code",
   "execution_count": 19,
   "metadata": {},
   "outputs": [],
   "source": [
    "rfc= RandomForestClassifier()\n",
    "rfc_pred= rfc.fit(xtr,ytr.values.ravel()).predict(xt)\n",
    "temp= math.sqrt(mean_squared_error(yt,rfc_pred))\n",
    "err_lab.append(temp)"
   ]
  },
  {
   "cell_type": "markdown",
   "metadata": {},
   "source": [
    "Light GBM"
   ]
  },
  {
   "cell_type": "code",
   "execution_count": 20,
   "metadata": {},
   "outputs": [
    {
     "name": "stdout",
     "output_type": "stream",
     "text": [
      "[LightGBM] [Warning] Find whitespaces in feature_names, replace with underlines\n",
      "[LightGBM] [Warning] Auto-choosing col-wise multi-threading, the overhead of testing was 0.001386 seconds.\n",
      "You can set `force_col_wise=true` to remove the overhead.\n",
      "[LightGBM] [Info] Total Bins 1765\n",
      "[LightGBM] [Info] Number of data points in the train set: 8869, number of used features: 23\n",
      "[LightGBM] [Info] Start training from score 19.903935\n"
     ]
    }
   ],
   "source": [
    "lgb_train= lgb.Dataset(xtr, label = ytr)\n",
    "lgb_eval= lgb.Dataset(xtr,ytr, reference= lgb_train)\n",
    "params = {'boosting_type': 'gbdt', 'num_leaves': 60, 'learning_rate': 0.2}\n",
    "gbm_pred = lgb.train(params, lgb_train, 100).predict(xt)\n",
    "temp= math.sqrt(mean_squared_error(yt,gbm_pred))\n",
    "err_lab.append(temp)"
   ]
  },
  {
   "cell_type": "markdown",
   "metadata": {},
   "source": [
    "### One Hot Encoding"
   ]
  },
  {
   "cell_type": "code",
   "execution_count": 21,
   "metadata": {},
   "outputs": [],
   "source": [
    "err_ohe =[]"
   ]
  },
  {
   "cell_type": "code",
   "execution_count": 22,
   "metadata": {},
   "outputs": [],
   "source": [
    "ohe=OneHotEncoder()\n",
    "for i in df.columns:\n",
    "    if df1[i].dtypes == 'object':\n",
    "        df1[i] =  pd.get_dummies(df1[i])"
   ]
  },
  {
   "cell_type": "code",
   "execution_count": 23,
   "metadata": {},
   "outputs": [
    {
     "data": {
      "text/html": [
       "<div>\n",
       "<style scoped>\n",
       "    .dataframe tbody tr th:only-of-type {\n",
       "        vertical-align: middle;\n",
       "    }\n",
       "\n",
       "    .dataframe tbody tr th {\n",
       "        vertical-align: top;\n",
       "    }\n",
       "\n",
       "    .dataframe thead th {\n",
       "        text-align: right;\n",
       "    }\n",
       "</style>\n",
       "<table border=\"1\" class=\"dataframe\">\n",
       "  <thead>\n",
       "    <tr style=\"text-align: right;\">\n",
       "      <th></th>\n",
       "      <th>DAY_OF_WEEK</th>\n",
       "      <th>CARRIER_CODE</th>\n",
       "      <th>DEST</th>\n",
       "      <th>DEP_DELAY</th>\n",
       "      <th>SCHEDULED_DURATION</th>\n",
       "      <th>DISTANCE</th>\n",
       "      <th>SCHEDULED_DEPARTURE</th>\n",
       "      <th>ACTUAL_DEPATURE</th>\n",
       "      <th>SCHEDULED_ARRIVAL</th>\n",
       "      <th>Temperature</th>\n",
       "      <th>...</th>\n",
       "      <th>Wind Gust</th>\n",
       "      <th>Pressure</th>\n",
       "      <th>Condition</th>\n",
       "      <th>FLT_SCH_DEPATURE</th>\n",
       "      <th>FLT_SCH_ARRIVAL</th>\n",
       "      <th>TAXI_OUT</th>\n",
       "      <th>SPEED</th>\n",
       "      <th>Region</th>\n",
       "      <th>TOTAL_SCHEDULED</th>\n",
       "      <th>FLIGHT_TRAFFIC</th>\n",
       "    </tr>\n",
       "  </thead>\n",
       "  <tbody>\n",
       "    <tr>\n",
       "      <th>0</th>\n",
       "      <td>5</td>\n",
       "      <td>0</td>\n",
       "      <td>0</td>\n",
       "      <td>0</td>\n",
       "      <td>6.516667</td>\n",
       "      <td>4161.75324</td>\n",
       "      <td>420</td>\n",
       "      <td>414</td>\n",
       "      <td>631</td>\n",
       "      <td>47</td>\n",
       "      <td>...</td>\n",
       "      <td>29</td>\n",
       "      <td>30.0</td>\n",
       "      <td>0</td>\n",
       "      <td>17</td>\n",
       "      <td>21</td>\n",
       "      <td>16</td>\n",
       "      <td>638.632211</td>\n",
       "      <td>0</td>\n",
       "      <td>38</td>\n",
       "      <td>0</td>\n",
       "    </tr>\n",
       "    <tr>\n",
       "      <th>1</th>\n",
       "      <td>5</td>\n",
       "      <td>0</td>\n",
       "      <td>0</td>\n",
       "      <td>0</td>\n",
       "      <td>5.350000</td>\n",
       "      <td>3202.58660</td>\n",
       "      <td>419</td>\n",
       "      <td>414</td>\n",
       "      <td>620</td>\n",
       "      <td>47</td>\n",
       "      <td>...</td>\n",
       "      <td>29</td>\n",
       "      <td>30.0</td>\n",
       "      <td>0</td>\n",
       "      <td>17</td>\n",
       "      <td>21</td>\n",
       "      <td>25</td>\n",
       "      <td>598.614318</td>\n",
       "      <td>0</td>\n",
       "      <td>38</td>\n",
       "      <td>0</td>\n",
       "    </tr>\n",
       "    <tr>\n",
       "      <th>2</th>\n",
       "      <td>5</td>\n",
       "      <td>0</td>\n",
       "      <td>0</td>\n",
       "      <td>0</td>\n",
       "      <td>1.366667</td>\n",
       "      <td>300.94658</td>\n",
       "      <td>420</td>\n",
       "      <td>415</td>\n",
       "      <td>502</td>\n",
       "      <td>47</td>\n",
       "      <td>...</td>\n",
       "      <td>29</td>\n",
       "      <td>30.0</td>\n",
       "      <td>0</td>\n",
       "      <td>17</td>\n",
       "      <td>21</td>\n",
       "      <td>15</td>\n",
       "      <td>220.204815</td>\n",
       "      <td>0</td>\n",
       "      <td>38</td>\n",
       "      <td>0</td>\n",
       "    </tr>\n",
       "    <tr>\n",
       "      <th>3</th>\n",
       "      <td>5</td>\n",
       "      <td>0</td>\n",
       "      <td>0</td>\n",
       "      <td>0</td>\n",
       "      <td>2.383333</td>\n",
       "      <td>1155.50612</td>\n",
       "      <td>419</td>\n",
       "      <td>417</td>\n",
       "      <td>562</td>\n",
       "      <td>47</td>\n",
       "      <td>...</td>\n",
       "      <td>29</td>\n",
       "      <td>30.0</td>\n",
       "      <td>0</td>\n",
       "      <td>17</td>\n",
       "      <td>21</td>\n",
       "      <td>14</td>\n",
       "      <td>484.827743</td>\n",
       "      <td>0</td>\n",
       "      <td>38</td>\n",
       "      <td>0</td>\n",
       "    </tr>\n",
       "    <tr>\n",
       "      <th>4</th>\n",
       "      <td>5</td>\n",
       "      <td>0</td>\n",
       "      <td>0</td>\n",
       "      <td>0</td>\n",
       "      <td>2.566667</td>\n",
       "      <td>1223.09840</td>\n",
       "      <td>418</td>\n",
       "      <td>418</td>\n",
       "      <td>572</td>\n",
       "      <td>47</td>\n",
       "      <td>...</td>\n",
       "      <td>29</td>\n",
       "      <td>30.0</td>\n",
       "      <td>0</td>\n",
       "      <td>17</td>\n",
       "      <td>21</td>\n",
       "      <td>16</td>\n",
       "      <td>476.531844</td>\n",
       "      <td>0</td>\n",
       "      <td>38</td>\n",
       "      <td>0</td>\n",
       "    </tr>\n",
       "  </tbody>\n",
       "</table>\n",
       "<p>5 rows × 24 columns</p>\n",
       "</div>"
      ],
      "text/plain": [
       "   DAY_OF_WEEK  CARRIER_CODE  DEST  DEP_DELAY  SCHEDULED_DURATION    DISTANCE  \\\n",
       "0            5             0     0          0            6.516667  4161.75324   \n",
       "1            5             0     0          0            5.350000  3202.58660   \n",
       "2            5             0     0          0            1.366667   300.94658   \n",
       "3            5             0     0          0            2.383333  1155.50612   \n",
       "4            5             0     0          0            2.566667  1223.09840   \n",
       "\n",
       "   SCHEDULED_DEPARTURE  ACTUAL_DEPATURE  SCHEDULED_ARRIVAL  Temperature  ...  \\\n",
       "0                  420              414                631           47  ...   \n",
       "1                  419              414                620           47  ...   \n",
       "2                  420              415                502           47  ...   \n",
       "3                  419              417                562           47  ...   \n",
       "4                  418              418                572           47  ...   \n",
       "\n",
       "   Wind Gust  Pressure  Condition  FLT_SCH_DEPATURE  FLT_SCH_ARRIVAL  \\\n",
       "0         29      30.0          0                17               21   \n",
       "1         29      30.0          0                17               21   \n",
       "2         29      30.0          0                17               21   \n",
       "3         29      30.0          0                17               21   \n",
       "4         29      30.0          0                17               21   \n",
       "\n",
       "   TAXI_OUT       SPEED  Region  TOTAL_SCHEDULED  FLIGHT_TRAFFIC  \n",
       "0        16  638.632211       0               38               0  \n",
       "1        25  598.614318       0               38               0  \n",
       "2        15  220.204815       0               38               0  \n",
       "3        14  484.827743       0               38               0  \n",
       "4        16  476.531844       0               38               0  \n",
       "\n",
       "[5 rows x 24 columns]"
      ]
     },
     "execution_count": 23,
     "metadata": {},
     "output_type": "execute_result"
    }
   ],
   "source": [
    "df1.head()"
   ]
  },
  {
   "cell_type": "code",
   "execution_count": 24,
   "metadata": {},
   "outputs": [],
   "source": [
    "inp=df1.drop('TAXI_OUT',axis=1)\n",
    "out=df1['TAXI_OUT']"
   ]
  },
  {
   "cell_type": "code",
   "execution_count": 25,
   "metadata": {},
   "outputs": [
    {
     "data": {
      "text/plain": [
       "((8869, 23), (3802, 23), (8869,), (3802,))"
      ]
     },
     "execution_count": 25,
     "metadata": {},
     "output_type": "execute_result"
    }
   ],
   "source": [
    "xtr,xt,ytr,yt=train_test_split(inp,out,test_size=0.3,random_state=100)\n",
    "xtr.shape,xt.shape,ytr.shape,yt.shape"
   ]
  },
  {
   "cell_type": "markdown",
   "metadata": {},
   "source": [
    "Linear Regression"
   ]
  },
  {
   "cell_type": "code",
   "execution_count": 26,
   "metadata": {},
   "outputs": [],
   "source": [
    "lr0 = LinearRegression()\n",
    "lr0.fit(xtr, ytr)\n",
    "x_lr0=lr0.predict(xt)\n",
    "temp= math.sqrt(mean_squared_error(yt,x_lr0))\n",
    "err_ohe.append(temp)"
   ]
  },
  {
   "cell_type": "markdown",
   "metadata": {},
   "source": [
    "Ridge Regression"
   ]
  },
  {
   "cell_type": "code",
   "execution_count": 27,
   "metadata": {},
   "outputs": [],
   "source": [
    "lr1 = Ridge(alpha=0.5, normalize = True)\n",
    "lr1.fit(xtr, ytr)\n",
    "x_lr1=lr1.predict(xt)\n",
    "temp= math.sqrt(mean_squared_error(yt,x_lr1))\n",
    "err_ohe.append(temp)"
   ]
  },
  {
   "cell_type": "markdown",
   "metadata": {},
   "source": [
    "Lasso Regression"
   ]
  },
  {
   "cell_type": "code",
   "execution_count": 28,
   "metadata": {},
   "outputs": [],
   "source": [
    "lr2 = Lasso(alpha=0.1)\n",
    "lr2.fit(xtr, ytr)\n",
    "x_lr2=lr2.predict(xt)\n",
    "temp= math.sqrt(mean_squared_error(yt,x_lr2))\n",
    "err_ohe.append(temp)"
   ]
  },
  {
   "cell_type": "markdown",
   "metadata": {},
   "source": [
    "KNeighbors Classifier"
   ]
  },
  {
   "cell_type": "code",
   "execution_count": 29,
   "metadata": {},
   "outputs": [],
   "source": [
    "knn= KNeighborsClassifier(n_neighbors=10)\n",
    "knn_pred= knn.fit(xtr,ytr.values.ravel()).predict(xt)\n",
    "temp= math.sqrt(mean_squared_error(yt,knn_pred))\n",
    "err_ohe.append(temp)"
   ]
  },
  {
   "cell_type": "markdown",
   "metadata": {},
   "source": [
    "Support Vector Regression"
   ]
  },
  {
   "cell_type": "code",
   "execution_count": 30,
   "metadata": {},
   "outputs": [],
   "source": [
    "reg= SVR(kernel='rbf')\n",
    "reg.fit(xtr,ytr.values.ravel())\n",
    "svr_pred= reg.predict(xt)\n",
    "temp= math.sqrt(mean_squared_error(yt,svr_pred))\n",
    "err_ohe.append(temp)"
   ]
  },
  {
   "cell_type": "markdown",
   "metadata": {},
   "source": [
    "Gaussian Naive Bayes"
   ]
  },
  {
   "cell_type": "code",
   "execution_count": 31,
   "metadata": {},
   "outputs": [],
   "source": [
    "gnb= GaussianNB()\n",
    "gnb_pred= gnb.fit(xtr,ytr.values.ravel()).predict(xt)\n",
    "temp= math.sqrt(mean_squared_error(yt,gnb_pred))\n",
    "err_ohe.append(temp)"
   ]
  },
  {
   "cell_type": "markdown",
   "metadata": {},
   "source": [
    "Random Forest Classifier"
   ]
  },
  {
   "cell_type": "code",
   "execution_count": 32,
   "metadata": {},
   "outputs": [],
   "source": [
    "rfc= RandomForestClassifier()\n",
    "rfc_pred= rfc.fit(xtr,ytr.values.ravel()).predict(xt)\n",
    "temp= math.sqrt(mean_squared_error(yt,rfc_pred))\n",
    "err_ohe.append(temp)"
   ]
  },
  {
   "cell_type": "markdown",
   "metadata": {},
   "source": [
    "Light GBM"
   ]
  },
  {
   "cell_type": "code",
   "execution_count": 33,
   "metadata": {},
   "outputs": [
    {
     "name": "stdout",
     "output_type": "stream",
     "text": [
      "[LightGBM] [Warning] Find whitespaces in feature_names, replace with underlines\n",
      "[LightGBM] [Warning] Auto-choosing row-wise multi-threading, the overhead of testing was 0.001153 seconds.\n",
      "You can set `force_row_wise=true` to remove the overhead.\n",
      "And if memory is not enough, you can set `force_col_wise=true`.\n",
      "[LightGBM] [Info] Total Bins 1684\n",
      "[LightGBM] [Info] Number of data points in the train set: 8869, number of used features: 23\n",
      "[LightGBM] [Info] Start training from score 19.903935\n"
     ]
    }
   ],
   "source": [
    "lgb_train= lgb.Dataset(xtr, label = ytr)\n",
    "lgb_eval= lgb.Dataset(xtr,ytr, reference= lgb_train)\n",
    "params = {'boosting_type': 'gbdt', 'num_leaves': 60, 'learning_rate': 0.2}\n",
    "gbm_pred = lgb.train(params, lgb_train, 100).predict(xt)\n",
    "temp= math.sqrt(mean_squared_error(yt,gbm_pred))\n",
    "err_ohe.append(temp)"
   ]
  },
  {
   "cell_type": "markdown",
   "metadata": {},
   "source": [
    "## Compairing models on the basis of RMSE"
   ]
  },
  {
   "cell_type": "code",
   "execution_count": 34,
   "metadata": {},
   "outputs": [
    {
     "data": {
      "image/png": "[encoded data removed]",
      "text/plain": [
       "<Figure size 1440x720 with 1 Axes>"
      ]
     },
     "metadata": {
      "needs_background": "light"
     },
     "output_type": "display_data"
    }
   ],
   "source": [
    "labels=['Linear Regression','Ridge Regression','Lasso Regression','KNN','SVR','Naive Bayes','Random Forest','LightGBM']\n",
    "df = pd.DataFrame({'Label encoding':err_lab,'One Hot encoding':err_ohe}, index=labels)\n",
    "ax = df.plot.bar(rot=0,figsize=(20,10))"
   ]
  },
  {
   "cell_type": "markdown",
   "metadata": {},
   "source": [
    "### Conclusion\n",
    "\n",
    "###### Label encoding is better in predicting taxi_out time in almost all algorithms.\n",
    "\n",
    "###### One hot encoding produces exceptinally big RMSE in Naive Bayes algorithm.\n",
    "\n",
    "###### On the basis of RMSE we can say that LightGBM model is best model in both Label encoded as well as One Hot Encoded data."
   ]
  }
 ],
 "metadata": {
  "kernelspec": {
   "display_name": "Python 3",
   "language": "python",
   "name": "python3"
  },
  "language_info": {
   "codemirror_mode": {
    "name": "ipython",
    "version": 3
   },
   "file_extension": ".py",
   "mimetype": "text/x-python",
   "name": "python",
   "nbconvert_exporter": "python",
   "pygments_lexer": "ipython3",
   "version": "3.8.5"
  }
 },
 "nbformat": 4,
 "nbformat_minor": 4
}
