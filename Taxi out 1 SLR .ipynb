{
 "cells": [
  {
   "cell_type": "markdown",
   "metadata": {},
   "source": [
    "   # Taxi-Out Prediction"
   ]
  },
  {
   "cell_type": "markdown",
   "metadata": {},
   "source": [
    "## Purpose of this project\n",
    "\n",
    "To test several models to predict Taxi_out time for JFK Airport.\n",
    "\n",
    "Taxi_out is the time aircrafts spend on the surface. The period of time when the aircraft leave the tereminal and actually takes off.\n",
    "\n",
    "Reducing the taxi_out time will help in cutting the consumption of fuel."
   ]
  },
  {
   "cell_type": "markdown",
   "metadata": {},
   "source": [
    "### Description of the columns\n",
    "\n",
    "There are $28820$ observations of $23$ variables.\n",
    "Each observation is an individual flight.\n",
    "- `MONTH`, `DAY_OF_MONTH`, `DAY_OF_WEEK` contain information about the date of the flight\n",
    "- `OP_UNIQUE_CARRIER` contains ID of the airline (i.e. `AA` stands for American Airlines)\n",
    "- `TAIL_NUM` is the tail number of the plane\n",
    "- `DEST` is the destination airport code\n",
    "- `DEP_DELAY` is the departure delay of the flight\n",
    "- `CRS_ELAPSED_TIME` is expected duration of the light\n",
    "- `DISTANCE` is the distance between airports\n",
    "- `CRS_DEP_M` is scheduled departure time (in minutes after midnight)\n",
    "- `DEP_TIME_M` is actual departure time (gate checkout)\n",
    "- `CRS_ARR_M` is scheduled arrival time\n",
    "- `Temperature`, `Dew Point`, `Humidity`, `Wind Speed`, `Wind Gust` and `Pressure` are the numeric characteristis of the weather\n",
    "- `Wind` is the direction of the wind (`CALM` if calm, `VAR` if wind blows from various directions)\n",
    "- `Condition` contains natural language description of the weather\n",
    "- `sch_dep` is the number of flights scheduled for departure\n",
    "- `sch_arr` is the number of flights scheduled for arrival \n",
    "- `TAXI_OUT` is the time between the actual pushback and wheels-off.\n",
    "\n",
    "There are five caterogical variables: `OP_UNIQUE_CARRIER`, `TAIL_NUM`, `DEST`, `WIND` and `Condition`. \n",
    "The rest of the variables is numerical.\n",
    "\n",
    "\n",
    "Our target variable is `TAXI_OUT`.\n"
   ]
  },
  {
   "cell_type": "code",
   "execution_count": 1,
   "metadata": {},
   "outputs": [],
   "source": [
    "import pandas as pd\n",
    "import numpy as np\n",
    "import seaborn as sns\n",
    "import matplotlib.pyplot as plt\n",
    "import warnings\n",
    "warnings.filterwarnings('ignore')\n",
    "from scipy.stats import zscore"
   ]
  },
  {
   "cell_type": "code",
   "execution_count": 2,
   "metadata": {},
   "outputs": [],
   "source": [
    "df = pd.read_csv('M1_final.csv')"
   ]
  },
  {
   "cell_type": "markdown",
   "metadata": {},
   "source": [
    "## DATA CLEANING"
   ]
  },
  {
   "cell_type": "markdown",
   "metadata": {},
   "source": [
    "#### Renaming the columns for better understanding:-"
   ]
  },
  {
   "cell_type": "code",
   "execution_count": 3,
   "metadata": {},
   "outputs": [],
   "source": [
    "column_names={\"OP_UNIQUE_CARRIER\":\"CARRIER_CODE\",\n",
    "                \"CRS_ELAPSED_TIME\":\"SCHEDULED_DURATION\",\n",
    "                \"CRS_DEP_M\":\"SCHEDULED_DEPARTURE\",\n",
    "                \"DEP_TIME_M\":\"ACTUAL_DEPATURE\",\n",
    "                \"CRS_ARR_M\":\"SCHEDULED_ARRIVAL\",\n",
    "                \"sch_dep\":\"FLT_SCH_DEPATURE\",\n",
    "                \"sch_arr\":\"FLT_SCH_ARRIVAL\"\n",
    "               }\n",
    "\n",
    "df = df.rename(column_names, axis=1)"
   ]
  },
  {
   "cell_type": "markdown",
   "metadata": {},
   "source": [
    "#### Dropping unnecessary features:-"
   ]
  },
  {
   "cell_type": "markdown",
   "metadata": {},
   "source": [
    "Dropping TAIL_NUM as it act as a unique identifier and dosen't help the model for prediction"
   ]
  },
  {
   "cell_type": "code",
   "execution_count": 4,
   "metadata": {},
   "outputs": [],
   "source": [
    "df=df.drop('TAIL_NUM',axis=1) "
   ]
  },
  {
   "cell_type": "markdown",
   "metadata": {},
   "source": [
    "Dropping MONTH as it holds only 11, 12,  1 and it is not going to help the model for prediction"
   ]
  },
  {
   "cell_type": "code",
   "execution_count": 5,
   "metadata": {
    "scrolled": true
   },
   "outputs": [
    {
     "data": {
      "text/plain": [
       "array([11, 12,  1], dtype=int64)"
      ]
     },
     "execution_count": 5,
     "metadata": {},
     "output_type": "execute_result"
    }
   ],
   "source": [
    "df['MONTH'].unique()"
   ]
  },
  {
   "cell_type": "code",
   "execution_count": 6,
   "metadata": {},
   "outputs": [],
   "source": [
    "df=df.drop('MONTH',axis=1)"
   ]
  },
  {
   "cell_type": "markdown",
   "metadata": {},
   "source": [
    "Dropping the DAY_OF_MONTH for the same a above reason:-"
   ]
  },
  {
   "cell_type": "code",
   "execution_count": 7,
   "metadata": {},
   "outputs": [
    {
     "data": {
      "text/plain": [
       "array([ 1,  2,  3,  4,  5,  6,  7,  8,  9, 10, 11, 12, 13, 14, 15, 16, 17,\n",
       "       18, 19, 20, 21, 22, 23, 24, 25, 26, 27, 28, 29, 30, 31],\n",
       "      dtype=int64)"
      ]
     },
     "execution_count": 7,
     "metadata": {},
     "output_type": "execute_result"
    }
   ],
   "source": [
    "df.DAY_OF_MONTH.unique()"
   ]
  },
  {
   "cell_type": "code",
   "execution_count": 8,
   "metadata": {},
   "outputs": [],
   "source": [
    "df=df.drop('DAY_OF_MONTH',axis=1)"
   ]
  },
  {
   "cell_type": "markdown",
   "metadata": {},
   "source": [
    "#### Dew point feature | Cleaning "
   ]
  },
  {
   "cell_type": "code",
   "execution_count": 9,
   "metadata": {
    "scrolled": false
   },
   "outputs": [
    {
     "data": {
      "text/plain": [
       "array(['34', '32', '33', '31', '30', '29', '67', '35', '36', '38', '39',\n",
       "       '40', '41', '42', '28', '27', '46', '37', '44', '45', '52', '53',\n",
       "       '54', '56', '57', '59', '58', '50', '43', '48', '49', '47', '21',\n",
       "       '20', '22', '24', '23', '19', '18', '16', '13', '12', '14', '15',\n",
       "       '17', '26', '25', '51', '55', '6\\xa0', '9\\xa0', '5\\xa0', '8\\xa0',\n",
       "       '10', '4\\xa0', '7\\xa0', '3\\xa0', '2\\xa0', '11', '0\\xa0', '-1',\n",
       "       '1\\xa0', '-2', '-3'], dtype=object)"
      ]
     },
     "execution_count": 9,
     "metadata": {},
     "output_type": "execute_result"
    }
   ],
   "source": [
    "df['Dew Point'].unique()"
   ]
  },
  {
   "cell_type": "code",
   "execution_count": 10,
   "metadata": {},
   "outputs": [],
   "source": [
    "df['Dew Point'].replace(u'\\xa0',u'', regex=True, inplace=True)"
   ]
  },
  {
   "cell_type": "code",
   "execution_count": 11,
   "metadata": {
    "scrolled": true
   },
   "outputs": [
    {
     "data": {
      "text/plain": [
       "array(['34', '32', '33', '31', '30', '29', '67', '35', '36', '38', '39',\n",
       "       '40', '41', '42', '28', '27', '46', '37', '44', '45', '52', '53',\n",
       "       '54', '56', '57', '59', '58', '50', '43', '48', '49', '47', '21',\n",
       "       '20', '22', '24', '23', '19', '18', '16', '13', '12', '14', '15',\n",
       "       '17', '26', '25', '51', '55', '6', '9', '5', '8', '10', '4', '7',\n",
       "       '3', '2', '11', '0', '-1', '1', '-2', '-3'], dtype=object)"
      ]
     },
     "execution_count": 11,
     "metadata": {},
     "output_type": "execute_result"
    }
   ],
   "source": [
    "df['Dew Point'].unique()"
   ]
  },
  {
   "cell_type": "code",
   "execution_count": 12,
   "metadata": {},
   "outputs": [],
   "source": [
    "df['Dew Point'] = df['Dew Point'].astype('int64')"
   ]
  },
  {
   "cell_type": "code",
   "execution_count": 13,
   "metadata": {},
   "outputs": [
    {
     "data": {
      "text/plain": [
       "<AxesSubplot:xlabel='Dew Point'>"
      ]
     },
     "execution_count": 13,
     "metadata": {},
     "output_type": "execute_result"
    },
    {
     "data": {
      "image/png": "[encoded data removed]",
      "text/plain": [
       "<Figure size 432x288 with 1 Axes>"
      ]
     },
     "metadata": {
      "needs_background": "light"
     },
     "output_type": "display_data"
    }
   ],
   "source": [
    "sns.boxplot(x=df['Dew Point'])"
   ]
  },
  {
   "cell_type": "code",
   "execution_count": 14,
   "metadata": {},
   "outputs": [],
   "source": [
    "# Visualization shows the presence of extreme values "
   ]
  },
  {
   "cell_type": "markdown",
   "metadata": {},
   "source": [
    "####  Wind feature | clubbing into 6 main categories"
   ]
  },
  {
   "cell_type": "code",
   "execution_count": 15,
   "metadata": {
    "scrolled": false
   },
   "outputs": [
    {
     "data": {
      "text/plain": [
       "W       3273\n",
       "NW      3173\n",
       "NNW     2570\n",
       "WSW     2567\n",
       "N       2453\n",
       "SW      2354\n",
       "WNW     2145\n",
       "S       1879\n",
       "SSW     1632\n",
       "NNE     1280\n",
       "ENE     1124\n",
       "E       1068\n",
       "NE      1044\n",
       "CALM     835\n",
       "ESE      466\n",
       "SE       345\n",
       "SSE      315\n",
       "VAR      295\n",
       "Name: Wind, dtype: int64"
      ]
     },
     "execution_count": 15,
     "metadata": {},
     "output_type": "execute_result"
    }
   ],
   "source": [
    "df['Wind'].value_counts()"
   ]
  },
  {
   "cell_type": "code",
   "execution_count": 16,
   "metadata": {},
   "outputs": [],
   "source": [
    "df['Wind'] = df['Wind'].str[0]"
   ]
  },
  {
   "cell_type": "code",
   "execution_count": 17,
   "metadata": {},
   "outputs": [
    {
     "data": {
      "text/plain": [
       "array(['W', 'N', 'S', 'E', 'C', 'V', nan], dtype=object)"
      ]
     },
     "execution_count": 17,
     "metadata": {},
     "output_type": "execute_result"
    }
   ],
   "source": [
    "df['Wind'].unique()"
   ]
  },
  {
   "cell_type": "code",
   "execution_count": 18,
   "metadata": {},
   "outputs": [
    {
     "data": {
      "text/plain": [
       "N    10520\n",
       "W     7985\n",
       "S     6525\n",
       "E     2658\n",
       "C      835\n",
       "V      295\n",
       "Name: Wind, dtype: int64"
      ]
     },
     "execution_count": 18,
     "metadata": {},
     "output_type": "execute_result"
    }
   ],
   "source": [
    "df['Wind'].value_counts()"
   ]
  },
  {
   "cell_type": "markdown",
   "metadata": {},
   "source": [
    "#### DAY_OF_WEEK feature | numerical to categorical"
   ]
  },
  {
   "cell_type": "code",
   "execution_count": 19,
   "metadata": {},
   "outputs": [
    {
     "data": {
      "text/plain": [
       "array([5, 6, 7, 1, 2, 3, 4], dtype=int64)"
      ]
     },
     "execution_count": 19,
     "metadata": {},
     "output_type": "execute_result"
    }
   ],
   "source": [
    "df.DAY_OF_WEEK.unique()"
   ]
  },
  {
   "cell_type": "code",
   "execution_count": 20,
   "metadata": {},
   "outputs": [
    {
     "data": {
      "text/plain": [
       "5    4708\n",
       "7    4150\n",
       "4    4135\n",
       "2    4065\n",
       "1    4051\n",
       "3    4013\n",
       "6    3698\n",
       "Name: DAY_OF_WEEK, dtype: int64"
      ]
     },
     "execution_count": 20,
     "metadata": {},
     "output_type": "execute_result"
    }
   ],
   "source": [
    "df.DAY_OF_WEEK.value_counts()"
   ]
  },
  {
   "cell_type": "code",
   "execution_count": 21,
   "metadata": {},
   "outputs": [],
   "source": [
    "df['DAY_OF_WEEK']=df['DAY_OF_WEEK'].astype('object')"
   ]
  },
  {
   "cell_type": "markdown",
   "metadata": {},
   "source": [
    "#### SCHEDULED_DEPARTURE feature | Bin Creation"
   ]
  },
  {
   "cell_type": "code",
   "execution_count": 22,
   "metadata": {
    "scrolled": false
   },
   "outputs": [],
   "source": [
    "# df['SCHEDULED_DEPARTURE'] = pd.cut(df['SCHEDULED_DEPARTURE'],\n",
    "#                                    bins=[0,180,720,1020,1200,1440],\n",
    "#                                    labels=['Midnight','Morning','Noon','Evening','Night'])"
   ]
  },
  {
   "cell_type": "code",
   "execution_count": 23,
   "metadata": {},
   "outputs": [],
   "source": [
    "# df['SCHEDULED_DEPARTURE']=df['SCHEDULED_DEPARTURE'].astype('object')"
   ]
  },
  {
   "cell_type": "code",
   "execution_count": 24,
   "metadata": {},
   "outputs": [],
   "source": [
    "# df.SCHEDULED_DEPARTURE.value_counts()"
   ]
  },
  {
   "cell_type": "markdown",
   "metadata": {},
   "source": [
    "#### ACTUAL_DEPATURE feature | Bin Creation"
   ]
  },
  {
   "cell_type": "code",
   "execution_count": 25,
   "metadata": {},
   "outputs": [],
   "source": [
    "# df['ACTUAL_DEPATURE'] = pd.cut(df['ACTUAL_DEPATURE'],\n",
    "#                                bins=[0,180,720,1020,1200,1440],\n",
    "#                                labels=['Midnight','Morning','Noon','Evening','Night'])"
   ]
  },
  {
   "cell_type": "code",
   "execution_count": 26,
   "metadata": {},
   "outputs": [],
   "source": [
    "# df['ACTUAL_DEPATURE']=df['ACTUAL_DEPATURE'].astype('object')"
   ]
  },
  {
   "cell_type": "code",
   "execution_count": 27,
   "metadata": {},
   "outputs": [],
   "source": [
    "# df.ACTUAL_DEPATURE.value_counts()"
   ]
  },
  {
   "cell_type": "markdown",
   "metadata": {},
   "source": [
    "#### SCHEDULED_ARRIVAL feature | Bin Creation"
   ]
  },
  {
   "cell_type": "code",
   "execution_count": 28,
   "metadata": {},
   "outputs": [],
   "source": [
    "# df['SCHEDULED_ARRIVAL'] = pd.cut(df['SCHEDULED_ARRIVAL'],\n",
    "#                                  bins=[0,180,720,1020,1200,1440],\n",
    "#                                  labels=['Midnight','Morning','Noon','Evening','Night'])"
   ]
  },
  {
   "cell_type": "code",
   "execution_count": 29,
   "metadata": {},
   "outputs": [],
   "source": [
    "# df['SCHEDULED_ARRIVAL']=df['SCHEDULED_ARRIVAL'].astype('object')"
   ]
  },
  {
   "cell_type": "code",
   "execution_count": 30,
   "metadata": {},
   "outputs": [],
   "source": [
    "# df.SCHEDULED_ARRIVAL.value_counts()"
   ]
  },
  {
   "cell_type": "markdown",
   "metadata": {},
   "source": [
    "#### SPEED feature | New feature creation (Diatance/ time = speed)"
   ]
  },
  {
   "cell_type": "code",
   "execution_count": 31,
   "metadata": {},
   "outputs": [],
   "source": [
    "df['DISTANCE']=df['DISTANCE']*1.60934  #Converting miles into Kilo metres"
   ]
  },
  {
   "cell_type": "code",
   "execution_count": 32,
   "metadata": {},
   "outputs": [],
   "source": [
    "df['SCHEDULED_DURATION']=df['SCHEDULED_DURATION'] / 60    #Coverting scheduled duration into hours"
   ]
  },
  {
   "cell_type": "code",
   "execution_count": 33,
   "metadata": {},
   "outputs": [],
   "source": [
    "df['SPEED']=df['DISTANCE'] / df['SCHEDULED_DURATION']  #Calc.Speed in Km per Hour"
   ]
  },
  {
   "cell_type": "code",
   "execution_count": 34,
   "metadata": {},
   "outputs": [
    {
     "data": {
      "text/plain": [
       "<AxesSubplot:xlabel='SPEED'>"
      ]
     },
     "execution_count": 34,
     "metadata": {},
     "output_type": "execute_result"
    },
    {
     "data": {
      "image/png": "[encoded data removed]",
      "text/plain": [
       "<Figure size 432x288 with 1 Axes>"
      ]
     },
     "metadata": {
      "needs_background": "light"
     },
     "output_type": "display_data"
    }
   ],
   "source": [
    "sns.boxplot(df['SPEED'])"
   ]
  },
  {
   "cell_type": "code",
   "execution_count": 35,
   "metadata": {
    "scrolled": true
   },
   "outputs": [
    {
     "name": "stdout",
     "output_type": "stream",
     "text": [
      "-0.5665480389721033\n"
     ]
    },
    {
     "data": {
      "image/png": "[encoded data removed]",
      "text/plain": [
       "<Figure size 432x288 with 1 Axes>"
      ]
     },
     "metadata": {
      "needs_background": "light"
     },
     "output_type": "display_data"
    }
   ],
   "source": [
    "sns.distplot(df['SPEED'])\n",
    "print(df['SPEED'].skew())"
   ]
  },
  {
   "cell_type": "markdown",
   "metadata": {},
   "source": [
    "#### Region feature | New feature creation "
   ]
  },
  {
   "cell_type": "markdown",
   "metadata": {},
   "source": [
    "- Created with the help of DEST feature\n",
    "- Combined the destination into groups based on political Map"
   ]
  },
  {
   "cell_type": "code",
   "execution_count": 36,
   "metadata": {
    "scrolled": true
   },
   "outputs": [
    {
     "data": {
      "text/plain": [
       "array(['CHS', 'LAX', 'FLL', 'MCO', 'ATL', 'ORD', 'BUF', 'LGB', 'LAS',\n",
       "       'DCA', 'PHX', 'SFO', 'SJU', 'SLC', 'BOS', 'SAV', 'SYR', 'MSP',\n",
       "       'SEA', 'MIA', 'PDX', 'TPA', 'BTV', 'IAH', 'DEN', 'RSW', 'ORF',\n",
       "       'JAX', 'MSY', 'CLT', 'BNA', 'RDU', 'SAN', 'SJC', 'ROC', 'DFW',\n",
       "       'IAD', 'AUS', 'DTW', 'PWM', 'SRQ', 'CMH', 'HNL', 'PBI', 'BWI',\n",
       "       'CLE', 'BUR', 'PIT', 'RIC', 'IND', 'CVG', 'SMF', 'ONT', 'SAT',\n",
       "       'PSP', 'OAK', 'ABQ', 'PSE', 'ORH', 'BQN', 'STT', 'RNO', 'PHL',\n",
       "       'EGE', 'JAC'], dtype=object)"
      ]
     },
     "execution_count": 36,
     "metadata": {},
     "output_type": "execute_result"
    }
   ],
   "source": [
    "df['DEST'].unique()"
   ]
  },
  {
   "cell_type": "code",
   "execution_count": 37,
   "metadata": {},
   "outputs": [],
   "source": [
    "df['Region']=np.nan"
   ]
  },
  {
   "cell_type": "code",
   "execution_count": 38,
   "metadata": {},
   "outputs": [],
   "source": [
    "df.loc[df['DEST']=='BOS', 'Region'] ='North East'\n",
    "df.loc[df['DEST']=='BTV', 'Region'] ='North East'\n",
    "df.loc[df['DEST']=='BUF', 'Region'] ='North East'\n",
    "df.loc[df['DEST']=='ORH', 'Region'] ='North East'\n",
    "df.loc[df['DEST']=='PHL', 'Region'] ='North East'\n",
    "df.loc[df['DEST']=='PIT', 'Region'] ='North East'\n",
    "df.loc[df['DEST']=='ROC', 'Region'] ='North East'\n",
    "df.loc[df['DEST']=='SYR', 'Region'] ='North East'\n",
    "df.loc[df['DEST']=='ATL', 'Region'] ='South'\n",
    "df.loc[df['DEST']=='AUS', 'Region'] ='South'\n",
    "df.loc[df['DEST']=='BNA', 'Region'] ='South'\n",
    "df.loc[df['DEST']=='BQN', 'Region'] ='South'\n",
    "df.loc[df['DEST']=='CHS', 'Region'] ='South'\n",
    "df.loc[df['DEST']=='CLT', 'Region'] ='South'\n",
    "df.loc[df['DEST']=='DTW', 'Region'] ='South'\n",
    "df.loc[df['DEST']=='FLL', 'Region'] ='South'\n",
    "df.loc[df['DEST']=='HNL', 'Region'] ='South'\n",
    "df.loc[df['DEST']=='IAH', 'Region'] ='South'\n",
    "df.loc[df['DEST']=='JAC', 'Region'] ='South'\n",
    "df.loc[df['DEST']=='JAX', 'Region'] ='South'\n",
    "df.loc[df['DEST']=='MCO', 'Region'] ='South'\n",
    "df.loc[df['DEST']=='MIA', 'Region'] ='South'\n",
    "df.loc[df['DEST']=='MSY', 'Region'] ='South'\n",
    "df.loc[df['DEST']=='PBI', 'Region'] ='South'\n",
    "df.loc[df['DEST']=='PSE', 'Region'] ='South'\n",
    "df.loc[df['DEST']=='RIC', 'Region'] ='South'\n",
    "df.loc[df['DEST']=='RSW', 'Region'] ='South'\n",
    "df.loc[df['DEST']=='SAT', 'Region'] ='South'\n",
    "df.loc[df['DEST']=='SAV', 'Region'] ='South'\n",
    "df.loc[df['DEST']=='SRQ', 'Region'] ='South'\n",
    "df.loc[df['DEST']=='STT', 'Region'] ='South'\n",
    "df.loc[df['DEST']=='TPA', 'Region'] ='South'\n",
    "\n",
    "df.loc[df['DEST']=='CLE', 'Region'] ='Mid West'\n",
    "df.loc[df['DEST']=='CMH', 'Region'] ='Mid West'\n",
    "df.loc[df['DEST']=='CVG', 'Region'] ='Mid West'\n",
    "df.loc[df['DEST']=='DFW', 'Region'] ='Mid West'\n",
    "df.loc[df['DEST']=='IND', 'Region'] ='Mid West'\n",
    "df.loc[df['DEST']=='MSP', 'Region'] ='Mid West'\n",
    "df.loc[df['DEST']=='ORD', 'Region'] ='Mid West'\n",
    "df.loc[df['DEST']=='ORF', 'Region'] ='Mid West'\n",
    "\n",
    "df.loc[df['DEST']=='ABQ', 'Region'] ='West'\n",
    "df.loc[df['DEST']=='BUR', 'Region'] ='West'\n",
    "df.loc[df['DEST']=='BWI', 'Region'] ='West'\n",
    "df.loc[df['DEST']=='DCA', 'Region'] ='West'\n",
    "df.loc[df['DEST']=='DEN', 'Region'] ='West'\n",
    "df.loc[df['DEST']=='EGE', 'Region'] ='West'\n",
    "df.loc[df['DEST']=='IAD', 'Region'] ='West'\n",
    "df.loc[df['DEST']=='LAS', 'Region'] ='West'\n",
    "df.loc[df['DEST']=='LAX', 'Region'] ='West'\n",
    "df.loc[df['DEST']=='LGB', 'Region'] ='West'\n",
    "df.loc[df['DEST']=='ONT', 'Region'] ='West'\n",
    "df.loc[df['DEST']=='OAK', 'Region'] ='West'\n",
    "df.loc[df['DEST']=='PDX', 'Region'] ='West'\n",
    "df.loc[df['DEST']=='PHX', 'Region'] ='West'\n",
    "df.loc[df['DEST']=='PSP', 'Region'] ='West'\n",
    "df.loc[df['DEST']=='PWM', 'Region'] ='West'\n",
    "df.loc[df['DEST']=='RDU', 'Region'] ='West'\n",
    "df.loc[df['DEST']=='RNO', 'Region'] ='West'\n",
    "df.loc[df['DEST']=='SAN', 'Region'] ='West'\n",
    "df.loc[df['DEST']=='SEA', 'Region'] ='West'\n",
    "df.loc[df['DEST']=='SFO', 'Region'] ='West'\n",
    "df.loc[df['DEST']=='SJC', 'Region'] ='West'\n",
    "df.loc[df['DEST']=='SJU', 'Region'] ='West'\n",
    "df.loc[df['DEST']=='SLC', 'Region'] ='West'\n",
    "df.loc[df['DEST']=='SMF', 'Region'] ='West'\n"
   ]
  },
  {
   "cell_type": "code",
   "execution_count": 39,
   "metadata": {
    "scrolled": true
   },
   "outputs": [
    {
     "data": {
      "text/plain": [
       "West          12128\n",
       "South          9899\n",
       "North East     3979\n",
       "Mid West       2814\n",
       "Name: Region, dtype: int64"
      ]
     },
     "execution_count": 39,
     "metadata": {},
     "output_type": "execute_result"
    }
   ],
   "source": [
    "df['Region'].value_counts()"
   ]
  },
  {
   "cell_type": "markdown",
   "metadata": {},
   "source": [
    "#### DEP_DELAY | New Feature Creation"
   ]
  },
  {
   "cell_type": "markdown",
   "metadata": {},
   "source": [
    "- created by seperating DEP DELAY into 3 bins (Early, Ontime, Delayed)"
   ]
  },
  {
   "cell_type": "code",
   "execution_count": 40,
   "metadata": {},
   "outputs": [],
   "source": [
    "df['DEP_DELAY'] = pd.cut(df['DEP_DELAY'],\n",
    "                           bins=[-22,-1,0,1276],\n",
    "                           labels=['EARLY','ONTIME','DELAYED'])"
   ]
  },
  {
   "cell_type": "code",
   "execution_count": 41,
   "metadata": {},
   "outputs": [
    {
     "data": {
      "text/plain": [
       "EARLY      0.678303\n",
       "DELAYED    0.270828\n",
       "ONTIME     0.050869\n",
       "Name: DEP_DELAY, dtype: float64"
      ]
     },
     "execution_count": 41,
     "metadata": {},
     "output_type": "execute_result"
    }
   ],
   "source": [
    "df['DEP_DELAY'].value_counts(normalize=True)"
   ]
  },
  {
   "cell_type": "code",
   "execution_count": 42,
   "metadata": {},
   "outputs": [],
   "source": [
    "df['DEP_DELAY']=df['DEP_DELAY'].astype('object')"
   ]
  },
  {
   "cell_type": "markdown",
   "metadata": {},
   "source": [
    "#### TOTAL_SCHEDULED | Feature Creation"
   ]
  },
  {
   "cell_type": "code",
   "execution_count": 43,
   "metadata": {},
   "outputs": [
    {
     "data": {
      "text/plain": [
       "2        2\n",
       "9        2\n",
       "18       3\n",
       "8        4\n",
       "17       4\n",
       "      ... \n",
       "70    1156\n",
       "67    1296\n",
       "66    1328\n",
       "64    1391\n",
       "68    1494\n",
       "Name: TOTAL_SCHEDULED, Length: 73, dtype: int64"
      ]
     },
     "execution_count": 43,
     "metadata": {},
     "output_type": "execute_result"
    }
   ],
   "source": [
    "df[\"TOTAL_SCHEDULED\"] = df[\"FLT_SCH_DEPATURE\"] + df[\"FLT_SCH_ARRIVAL\"]\n",
    "df[\"TOTAL_SCHEDULED\"].value_counts(ascending = True)"
   ]
  },
  {
   "cell_type": "markdown",
   "metadata": {},
   "source": [
    "#### FLIGHT_TRAFFIC | Feature Creation"
   ]
  },
  {
   "cell_type": "code",
   "execution_count": 44,
   "metadata": {},
   "outputs": [],
   "source": [
    "df[\"FLIGHT_TRAFFIC\"] = pd.cut(df[\"TOTAL_SCHEDULED\"],\n",
    "                           bins=[0,27,55,83],\n",
    "                           labels=['Low','Medium','High'])"
   ]
  },
  {
   "cell_type": "code",
   "execution_count": 45,
   "metadata": {},
   "outputs": [
    {
     "data": {
      "text/plain": [
       "High      19696\n",
       "Medium     8674\n",
       "Low         450\n",
       "Name: FLIGHT_TRAFFIC, dtype: int64"
      ]
     },
     "execution_count": 45,
     "metadata": {},
     "output_type": "execute_result"
    }
   ],
   "source": [
    "df[\"FLIGHT_TRAFFIC\"].value_counts()"
   ]
  },
  {
   "cell_type": "code",
   "execution_count": 46,
   "metadata": {},
   "outputs": [],
   "source": [
    "df['FLIGHT_TRAFFIC']=df['FLIGHT_TRAFFIC'].astype('object')"
   ]
  },
  {
   "cell_type": "code",
   "execution_count": 47,
   "metadata": {},
   "outputs": [
    {
     "data": {
      "text/plain": [
       "Index(['DAY_OF_WEEK', 'CARRIER_CODE', 'DEST', 'DEP_DELAY',\n",
       "       'SCHEDULED_DURATION', 'DISTANCE', 'SCHEDULED_DEPARTURE',\n",
       "       'ACTUAL_DEPATURE', 'SCHEDULED_ARRIVAL', 'Temperature', 'Dew Point',\n",
       "       'Humidity', 'Wind', 'Wind Speed', 'Wind Gust', 'Pressure', 'Condition',\n",
       "       'FLT_SCH_DEPATURE', 'FLT_SCH_ARRIVAL', 'TAXI_OUT', 'SPEED', 'Region',\n",
       "       'TOTAL_SCHEDULED', 'FLIGHT_TRAFFIC'],\n",
       "      dtype='object')"
      ]
     },
     "execution_count": 47,
     "metadata": {},
     "output_type": "execute_result"
    }
   ],
   "source": [
    "df.columns"
   ]
  },
  {
   "cell_type": "markdown",
   "metadata": {},
   "source": [
    "#### NULL VALUE TREATMENT"
   ]
  },
  {
   "cell_type": "code",
   "execution_count": 48,
   "metadata": {},
   "outputs": [
    {
     "data": {
      "text/html": [
       "<div>\n",
       "<style scoped>\n",
       "    .dataframe tbody tr th:only-of-type {\n",
       "        vertical-align: middle;\n",
       "    }\n",
       "\n",
       "    .dataframe tbody tr th {\n",
       "        vertical-align: top;\n",
       "    }\n",
       "\n",
       "    .dataframe thead th {\n",
       "        text-align: right;\n",
       "    }\n",
       "</style>\n",
       "<table border=\"1\" class=\"dataframe\">\n",
       "  <thead>\n",
       "    <tr style=\"text-align: right;\">\n",
       "      <th></th>\n",
       "      <th>Total</th>\n",
       "      <th>Percentage of Missing Values</th>\n",
       "    </tr>\n",
       "  </thead>\n",
       "  <tbody>\n",
       "    <tr>\n",
       "      <th>Wind</th>\n",
       "      <td>2</td>\n",
       "      <td>0.00694</td>\n",
       "    </tr>\n",
       "    <tr>\n",
       "      <th>DEP_DELAY</th>\n",
       "      <td>1</td>\n",
       "      <td>0.00347</td>\n",
       "    </tr>\n",
       "    <tr>\n",
       "      <th>FLIGHT_TRAFFIC</th>\n",
       "      <td>0</td>\n",
       "      <td>0.00000</td>\n",
       "    </tr>\n",
       "    <tr>\n",
       "      <th>Dew Point</th>\n",
       "      <td>0</td>\n",
       "      <td>0.00000</td>\n",
       "    </tr>\n",
       "    <tr>\n",
       "      <th>CARRIER_CODE</th>\n",
       "      <td>0</td>\n",
       "      <td>0.00000</td>\n",
       "    </tr>\n",
       "    <tr>\n",
       "      <th>DEST</th>\n",
       "      <td>0</td>\n",
       "      <td>0.00000</td>\n",
       "    </tr>\n",
       "    <tr>\n",
       "      <th>SCHEDULED_DURATION</th>\n",
       "      <td>0</td>\n",
       "      <td>0.00000</td>\n",
       "    </tr>\n",
       "    <tr>\n",
       "      <th>DISTANCE</th>\n",
       "      <td>0</td>\n",
       "      <td>0.00000</td>\n",
       "    </tr>\n",
       "    <tr>\n",
       "      <th>SCHEDULED_DEPARTURE</th>\n",
       "      <td>0</td>\n",
       "      <td>0.00000</td>\n",
       "    </tr>\n",
       "    <tr>\n",
       "      <th>ACTUAL_DEPATURE</th>\n",
       "      <td>0</td>\n",
       "      <td>0.00000</td>\n",
       "    </tr>\n",
       "    <tr>\n",
       "      <th>SCHEDULED_ARRIVAL</th>\n",
       "      <td>0</td>\n",
       "      <td>0.00000</td>\n",
       "    </tr>\n",
       "    <tr>\n",
       "      <th>Temperature</th>\n",
       "      <td>0</td>\n",
       "      <td>0.00000</td>\n",
       "    </tr>\n",
       "    <tr>\n",
       "      <th>Humidity</th>\n",
       "      <td>0</td>\n",
       "      <td>0.00000</td>\n",
       "    </tr>\n",
       "    <tr>\n",
       "      <th>TOTAL_SCHEDULED</th>\n",
       "      <td>0</td>\n",
       "      <td>0.00000</td>\n",
       "    </tr>\n",
       "    <tr>\n",
       "      <th>Wind Speed</th>\n",
       "      <td>0</td>\n",
       "      <td>0.00000</td>\n",
       "    </tr>\n",
       "    <tr>\n",
       "      <th>Wind Gust</th>\n",
       "      <td>0</td>\n",
       "      <td>0.00000</td>\n",
       "    </tr>\n",
       "    <tr>\n",
       "      <th>Pressure</th>\n",
       "      <td>0</td>\n",
       "      <td>0.00000</td>\n",
       "    </tr>\n",
       "    <tr>\n",
       "      <th>Condition</th>\n",
       "      <td>0</td>\n",
       "      <td>0.00000</td>\n",
       "    </tr>\n",
       "    <tr>\n",
       "      <th>FLT_SCH_DEPATURE</th>\n",
       "      <td>0</td>\n",
       "      <td>0.00000</td>\n",
       "    </tr>\n",
       "    <tr>\n",
       "      <th>FLT_SCH_ARRIVAL</th>\n",
       "      <td>0</td>\n",
       "      <td>0.00000</td>\n",
       "    </tr>\n",
       "    <tr>\n",
       "      <th>TAXI_OUT</th>\n",
       "      <td>0</td>\n",
       "      <td>0.00000</td>\n",
       "    </tr>\n",
       "    <tr>\n",
       "      <th>SPEED</th>\n",
       "      <td>0</td>\n",
       "      <td>0.00000</td>\n",
       "    </tr>\n",
       "    <tr>\n",
       "      <th>Region</th>\n",
       "      <td>0</td>\n",
       "      <td>0.00000</td>\n",
       "    </tr>\n",
       "    <tr>\n",
       "      <th>DAY_OF_WEEK</th>\n",
       "      <td>0</td>\n",
       "      <td>0.00000</td>\n",
       "    </tr>\n",
       "  </tbody>\n",
       "</table>\n",
       "</div>"
      ],
      "text/plain": [
       "                     Total  Percentage of Missing Values\n",
       "Wind                     2                       0.00694\n",
       "DEP_DELAY                1                       0.00347\n",
       "FLIGHT_TRAFFIC           0                       0.00000\n",
       "Dew Point                0                       0.00000\n",
       "CARRIER_CODE             0                       0.00000\n",
       "DEST                     0                       0.00000\n",
       "SCHEDULED_DURATION       0                       0.00000\n",
       "DISTANCE                 0                       0.00000\n",
       "SCHEDULED_DEPARTURE      0                       0.00000\n",
       "ACTUAL_DEPATURE          0                       0.00000\n",
       "SCHEDULED_ARRIVAL        0                       0.00000\n",
       "Temperature              0                       0.00000\n",
       "Humidity                 0                       0.00000\n",
       "TOTAL_SCHEDULED          0                       0.00000\n",
       "Wind Speed               0                       0.00000\n",
       "Wind Gust                0                       0.00000\n",
       "Pressure                 0                       0.00000\n",
       "Condition                0                       0.00000\n",
       "FLT_SCH_DEPATURE         0                       0.00000\n",
       "FLT_SCH_ARRIVAL          0                       0.00000\n",
       "TAXI_OUT                 0                       0.00000\n",
       "SPEED                    0                       0.00000\n",
       "Region                   0                       0.00000\n",
       "DAY_OF_WEEK              0                       0.00000"
      ]
     },
     "execution_count": 48,
     "metadata": {},
     "output_type": "execute_result"
    }
   ],
   "source": [
    "Total = df.isnull().sum().sort_values(ascending=False)\n",
    "Percent = df.isnull().sum()*100/df.isnull().count().sort_values(ascending=False) \n",
    "missing_data = pd.concat([Total, Percent], axis=1, keys=['Total', 'Percentage of Missing Values'])    \n",
    "missing_data"
   ]
  },
  {
   "cell_type": "markdown",
   "metadata": {},
   "source": [
    "As our data set is large and the number of missing values are very very small as compared to that of our data set, we can safely drop the rows!\n",
    "\n"
   ]
  },
  {
   "cell_type": "code",
   "execution_count": 49,
   "metadata": {},
   "outputs": [],
   "source": [
    "df.dropna(inplace=True)"
   ]
  },
  {
   "cell_type": "markdown",
   "metadata": {},
   "source": [
    "#### NUMERICAL AND CATEGORICAL COLUMNS"
   ]
  },
  {
   "cell_type": "code",
   "execution_count": 50,
   "metadata": {},
   "outputs": [
    {
     "data": {
      "text/plain": [
       "Index(['DAY_OF_WEEK', 'CARRIER_CODE', 'DEST', 'DEP_DELAY', 'Wind', 'Condition',\n",
       "       'Region', 'FLIGHT_TRAFFIC'],\n",
       "      dtype='object')"
      ]
     },
     "execution_count": 50,
     "metadata": {},
     "output_type": "execute_result"
    }
   ],
   "source": [
    "cat = df.select_dtypes(include = 'object')\n",
    "cat.columns"
   ]
  },
  {
   "cell_type": "code",
   "execution_count": 51,
   "metadata": {},
   "outputs": [
    {
     "data": {
      "text/html": [
       "<div>\n",
       "<style scoped>\n",
       "    .dataframe tbody tr th:only-of-type {\n",
       "        vertical-align: middle;\n",
       "    }\n",
       "\n",
       "    .dataframe tbody tr th {\n",
       "        vertical-align: top;\n",
       "    }\n",
       "\n",
       "    .dataframe thead th {\n",
       "        text-align: right;\n",
       "    }\n",
       "</style>\n",
       "<table border=\"1\" class=\"dataframe\">\n",
       "  <thead>\n",
       "    <tr style=\"text-align: right;\">\n",
       "      <th></th>\n",
       "      <th>DAY_OF_WEEK</th>\n",
       "      <th>CARRIER_CODE</th>\n",
       "      <th>DEST</th>\n",
       "      <th>DEP_DELAY</th>\n",
       "      <th>Wind</th>\n",
       "      <th>Condition</th>\n",
       "      <th>Region</th>\n",
       "      <th>FLIGHT_TRAFFIC</th>\n",
       "    </tr>\n",
       "  </thead>\n",
       "  <tbody>\n",
       "    <tr>\n",
       "      <th>0</th>\n",
       "      <td>5</td>\n",
       "      <td>B6</td>\n",
       "      <td>CHS</td>\n",
       "      <td>EARLY</td>\n",
       "      <td>W</td>\n",
       "      <td>Fair / Windy</td>\n",
       "      <td>South</td>\n",
       "      <td>Low</td>\n",
       "    </tr>\n",
       "    <tr>\n",
       "      <th>1</th>\n",
       "      <td>5</td>\n",
       "      <td>B6</td>\n",
       "      <td>LAX</td>\n",
       "      <td>EARLY</td>\n",
       "      <td>W</td>\n",
       "      <td>Fair / Windy</td>\n",
       "      <td>West</td>\n",
       "      <td>Low</td>\n",
       "    </tr>\n",
       "  </tbody>\n",
       "</table>\n",
       "</div>"
      ],
      "text/plain": [
       "  DAY_OF_WEEK CARRIER_CODE DEST DEP_DELAY Wind     Condition Region  \\\n",
       "0           5           B6  CHS     EARLY    W  Fair / Windy  South   \n",
       "1           5           B6  LAX     EARLY    W  Fair / Windy   West   \n",
       "\n",
       "  FLIGHT_TRAFFIC  \n",
       "0            Low  \n",
       "1            Low  "
      ]
     },
     "execution_count": 51,
     "metadata": {},
     "output_type": "execute_result"
    }
   ],
   "source": [
    "cat.head(2)"
   ]
  },
  {
   "cell_type": "code",
   "execution_count": 52,
   "metadata": {
    "scrolled": true
   },
   "outputs": [
    {
     "data": {
      "text/plain": [
       "Index(['SCHEDULED_DURATION', 'DISTANCE', 'SCHEDULED_DEPARTURE',\n",
       "       'ACTUAL_DEPATURE', 'SCHEDULED_ARRIVAL', 'Temperature', 'Dew Point',\n",
       "       'Humidity', 'Wind Speed', 'Wind Gust', 'Pressure', 'FLT_SCH_DEPATURE',\n",
       "       'FLT_SCH_ARRIVAL', 'TAXI_OUT', 'SPEED', 'TOTAL_SCHEDULED'],\n",
       "      dtype='object')"
      ]
     },
     "execution_count": 52,
     "metadata": {},
     "output_type": "execute_result"
    }
   ],
   "source": [
    "num = df.select_dtypes(exclude = 'object')\n",
    "num.columns"
   ]
  },
  {
   "cell_type": "code",
   "execution_count": 53,
   "metadata": {},
   "outputs": [
    {
     "data": {
      "text/html": [
       "<div>\n",
       "<style scoped>\n",
       "    .dataframe tbody tr th:only-of-type {\n",
       "        vertical-align: middle;\n",
       "    }\n",
       "\n",
       "    .dataframe tbody tr th {\n",
       "        vertical-align: top;\n",
       "    }\n",
       "\n",
       "    .dataframe thead th {\n",
       "        text-align: right;\n",
       "    }\n",
       "</style>\n",
       "<table border=\"1\" class=\"dataframe\">\n",
       "  <thead>\n",
       "    <tr style=\"text-align: right;\">\n",
       "      <th></th>\n",
       "      <th>SCHEDULED_DURATION</th>\n",
       "      <th>DISTANCE</th>\n",
       "      <th>SCHEDULED_DEPARTURE</th>\n",
       "      <th>ACTUAL_DEPATURE</th>\n",
       "      <th>SCHEDULED_ARRIVAL</th>\n",
       "      <th>Temperature</th>\n",
       "      <th>Dew Point</th>\n",
       "      <th>Humidity</th>\n",
       "      <th>Wind Speed</th>\n",
       "      <th>Wind Gust</th>\n",
       "      <th>Pressure</th>\n",
       "      <th>FLT_SCH_DEPATURE</th>\n",
       "      <th>FLT_SCH_ARRIVAL</th>\n",
       "      <th>TAXI_OUT</th>\n",
       "      <th>SPEED</th>\n",
       "      <th>TOTAL_SCHEDULED</th>\n",
       "    </tr>\n",
       "  </thead>\n",
       "  <tbody>\n",
       "    <tr>\n",
       "      <th>0</th>\n",
       "      <td>2.066667</td>\n",
       "      <td>1023.54024</td>\n",
       "      <td>324</td>\n",
       "      <td>323</td>\n",
       "      <td>448</td>\n",
       "      <td>48</td>\n",
       "      <td>34</td>\n",
       "      <td>58</td>\n",
       "      <td>25</td>\n",
       "      <td>38</td>\n",
       "      <td>29.86</td>\n",
       "      <td>9</td>\n",
       "      <td>17</td>\n",
       "      <td>14</td>\n",
       "      <td>495.261406</td>\n",
       "      <td>26</td>\n",
       "    </tr>\n",
       "    <tr>\n",
       "      <th>1</th>\n",
       "      <td>6.183333</td>\n",
       "      <td>3983.11650</td>\n",
       "      <td>340</td>\n",
       "      <td>333</td>\n",
       "      <td>531</td>\n",
       "      <td>48</td>\n",
       "      <td>34</td>\n",
       "      <td>58</td>\n",
       "      <td>25</td>\n",
       "      <td>38</td>\n",
       "      <td>29.86</td>\n",
       "      <td>9</td>\n",
       "      <td>17</td>\n",
       "      <td>15</td>\n",
       "      <td>644.169784</td>\n",
       "      <td>26</td>\n",
       "    </tr>\n",
       "  </tbody>\n",
       "</table>\n",
       "</div>"
      ],
      "text/plain": [
       "   SCHEDULED_DURATION    DISTANCE  SCHEDULED_DEPARTURE  ACTUAL_DEPATURE  \\\n",
       "0            2.066667  1023.54024                  324              323   \n",
       "1            6.183333  3983.11650                  340              333   \n",
       "\n",
       "   SCHEDULED_ARRIVAL  Temperature  Dew Point  Humidity  Wind Speed  Wind Gust  \\\n",
       "0                448           48         34        58          25         38   \n",
       "1                531           48         34        58          25         38   \n",
       "\n",
       "   Pressure  FLT_SCH_DEPATURE  FLT_SCH_ARRIVAL  TAXI_OUT       SPEED  \\\n",
       "0     29.86                 9               17        14  495.261406   \n",
       "1     29.86                 9               17        15  644.169784   \n",
       "\n",
       "   TOTAL_SCHEDULED  \n",
       "0               26  \n",
       "1               26  "
      ]
     },
     "execution_count": 53,
     "metadata": {},
     "output_type": "execute_result"
    }
   ],
   "source": [
    "num.head(2)"
   ]
  },
  {
   "cell_type": "markdown",
   "metadata": {},
   "source": [
    "#### TREATING OUTLIERS"
   ]
  },
  {
   "cell_type": "code",
   "execution_count": 54,
   "metadata": {},
   "outputs": [
    {
     "data": {
      "image/png": "[encoded data removed]",
      "text/plain": [
       "<Figure size 432x288 with 1 Axes>"
      ]
     },
     "metadata": {
      "needs_background": "light"
     },
     "output_type": "display_data"
    },
    {
     "data": {
      "image/png": "[encoded data removed]",
      "text/plain": [
       "<Figure size 432x288 with 1 Axes>"
      ]
     },
     "metadata": {
      "needs_background": "light"
     },
     "output_type": "display_data"
    },
    {
     "data": {
      "image/png": "[encoded data removed]",
      "text/plain": [
       "<Figure size 432x288 with 1 Axes>"
      ]
     },
     "metadata": {
      "needs_background": "light"
     },
     "output_type": "display_data"
    },
    {
     "data": {
      "image/png": "[encoded data removed]",
      "text/plain": [
       "<Figure size 432x288 with 1 Axes>"
      ]
     },
     "metadata": {
      "needs_background": "light"
     },
     "output_type": "display_data"
    },
    {
     "data": {
      "image/png": "[encoded data removed]",
      "text/plain": [
       "<Figure size 432x288 with 1 Axes>"
      ]
     },
     "metadata": {
      "needs_background": "light"
     },
     "output_type": "display_data"
    },
    {
     "data": {
      "image/png": "[encoded data removed]",
      "text/plain": [
       "<Figure size 432x288 with 1 Axes>"
      ]
     },
     "metadata": {
      "needs_background": "light"
     },
     "output_type": "display_data"
    },
    {
     "data": {
      "image/png": "[encoded data removed]",
      "text/plain": [
       "<Figure size 432x288 with 1 Axes>"
      ]
     },
     "metadata": {
      "needs_background": "light"
     },
     "output_type": "display_data"
    },
    {
     "data": {
      "image/png": "[encoded data removed]",
      "text/plain": [
       "<Figure size 432x288 with 1 Axes>"
      ]
     },
     "metadata": {
      "needs_background": "light"
     },
     "output_type": "display_data"
    },
    {
     "data": {
      "image/png": "[encoded data removed]",
      "text/plain": [
       "<Figure size 432x288 with 1 Axes>"
      ]
     },
     "metadata": {
      "needs_background": "light"
     },
     "output_type": "display_data"
    },
    {
     "data": {
      "image/png": "[encoded data removed]",
      "text/plain": [
       "<Figure size 432x288 with 1 Axes>"
      ]
     },
     "metadata": {
      "needs_background": "light"
     },
     "output_type": "display_data"
    },
    {
     "data": {
      "image/png": "[encoded data removed]",
      "text/plain": [
       "<Figure size 432x288 with 1 Axes>"
      ]
     },
     "metadata": {
      "needs_background": "light"
     },
     "output_type": "display_data"
    },
    {
     "data": {
      "image/png": "[encoded data removed]",
      "text/plain": [
       "<Figure size 432x288 with 1 Axes>"
      ]
     },
     "metadata": {
      "needs_background": "light"
     },
     "output_type": "display_data"
    },
    {
     "data": {
      "image/png": "[encoded data removed]",
      "text/plain": [
       "<Figure size 432x288 with 1 Axes>"
      ]
     },
     "metadata": {
      "needs_background": "light"
     },
     "output_type": "display_data"
    },
    {
     "data": {
      "image/png": "[encoded data removed]",
      "text/plain": [
       "<Figure size 432x288 with 1 Axes>"
      ]
     },
     "metadata": {
      "needs_background": "light"
     },
     "output_type": "display_data"
    },
    {
     "data": {
      "image/png": "[encoded data removed]",
      "text/plain": [
       "<Figure size 432x288 with 1 Axes>"
      ]
     },
     "metadata": {
      "needs_background": "light"
     },
     "output_type": "display_data"
    },
    {
     "data": {
      "image/png": "[encoded data removed]",
      "text/plain": [
       "<Figure size 432x288 with 1 Axes>"
      ]
     },
     "metadata": {
      "needs_background": "light"
     },
     "output_type": "display_data"
    }
   ],
   "source": [
    "for i in num.columns:\n",
    "    sns.boxplot(df[i])\n",
    "    plt.show()"
   ]
  },
  {
   "cell_type": "markdown",
   "metadata": {},
   "source": [
    "There are so many outlier in the data set, but removing all those will cause us loosing a lot of data. So here we will remove only bottom 5% and top 3% data."
   ]
  },
  {
   "cell_type": "code",
   "execution_count": 55,
   "metadata": {},
   "outputs": [],
   "source": [
    "# IQR:\n",
    "ll=df.quantile(0.03)\n",
    "ul=df.quantile(0.95)\n",
    "df1 = df[~ ( ( df > ul)|(df < ll) ).any(axis=1)]  "
   ]
  },
  {
   "cell_type": "code",
   "execution_count": 56,
   "metadata": {},
   "outputs": [
    {
     "data": {
      "image/png": "[encoded data removed]",
      "text/plain": [
       "<Figure size 432x288 with 1 Axes>"
      ]
     },
     "metadata": {
      "needs_background": "light"
     },
     "output_type": "display_data"
    },
    {
     "data": {
      "image/png": "[encoded data removed]",
      "text/plain": [
       "<Figure size 432x288 with 1 Axes>"
      ]
     },
     "metadata": {
      "needs_background": "light"
     },
     "output_type": "display_data"
    },
    {
     "data": {
      "image/png": "[encoded data removed]",
      "text/plain": [
       "<Figure size 432x288 with 1 Axes>"
      ]
     },
     "metadata": {
      "needs_background": "light"
     },
     "output_type": "display_data"
    },
    {
     "data": {
      "image/png": "[encoded data removed]",
      "text/plain": [
       "<Figure size 432x288 with 1 Axes>"
      ]
     },
     "metadata": {
      "needs_background": "light"
     },
     "output_type": "display_data"
    },
    {
     "data": {
      "image/png": "[encoded data removed]",
      "text/plain": [
       "<Figure size 432x288 with 1 Axes>"
      ]
     },
     "metadata": {
      "needs_background": "light"
     },
     "output_type": "display_data"
    },
    {
     "data": {
      "image/png": "[encoded data removed]",
      "text/plain": [
       "<Figure size 432x288 with 1 Axes>"
      ]
     },
     "metadata": {
      "needs_background": "light"
     },
     "output_type": "display_data"
    },
    {
     "data": {
      "image/png": "[encoded data removed]",
      "text/plain": [
       "<Figure size 432x288 with 1 Axes>"
      ]
     },
     "metadata": {
      "needs_background": "light"
     },
     "output_type": "display_data"
    },
    {
     "data": {
      "image/png": "[encoded data removed]",
      "text/plain": [
       "<Figure size 432x288 with 1 Axes>"
      ]
     },
     "metadata": {
      "needs_background": "light"
     },
     "output_type": "display_data"
    },
    {
     "data": {
      "image/png": "[encoded data removed]",
      "text/plain": [
       "<Figure size 432x288 with 1 Axes>"
      ]
     },
     "metadata": {
      "needs_background": "light"
     },
     "output_type": "display_data"
    },
    {
     "data": {
      "image/png": "[encoded data removed]",
      "text/plain": [
       "<Figure size 432x288 with 1 Axes>"
      ]
     },
     "metadata": {
      "needs_background": "light"
     },
     "output_type": "display_data"
    },
    {
     "data": {
      "image/png": "[encoded data removed]",
      "text/plain": [
       "<Figure size 432x288 with 1 Axes>"
      ]
     },
     "metadata": {
      "needs_background": "light"
     },
     "output_type": "display_data"
    },
    {
     "data": {
      "image/png": "[encoded data removed]",
      "text/plain": [
       "<Figure size 432x288 with 1 Axes>"
      ]
     },
     "metadata": {
      "needs_background": "light"
     },
     "output_type": "display_data"
    },
    {
     "data": {
      "image/png": "[encoded data removed]",
      "text/plain": [
       "<Figure size 432x288 with 1 Axes>"
      ]
     },
     "metadata": {
      "needs_background": "light"
     },
     "output_type": "display_data"
    },
    {
     "data": {
      "image/png": "[encoded data removed]",
      "text/plain": [
       "<Figure size 432x288 with 1 Axes>"
      ]
     },
     "metadata": {
      "needs_background": "light"
     },
     "output_type": "display_data"
    },
    {
     "data": {
      "image/png": "[encoded data removed]",
      "text/plain": [
       "<Figure size 432x288 with 1 Axes>"
      ]
     },
     "metadata": {
      "needs_background": "light"
     },
     "output_type": "display_data"
    },
    {
     "data": {
      "image/png": "[encoded data removed]",
      "text/plain": [
       "<Figure size 432x288 with 1 Axes>"
      ]
     },
     "metadata": {
      "needs_background": "light"
     },
     "output_type": "display_data"
    }
   ],
   "source": [
    "for i in num.columns:\n",
    "    sns.boxplot(df1[i])\n",
    "    plt.show()"
   ]
  },
  {
   "cell_type": "markdown",
   "metadata": {},
   "source": [
    " Most of the Outliers are removed from the dataset"
   ]
  },
  {
   "cell_type": "code",
   "execution_count": 60,
   "metadata": {},
   "outputs": [
    {
     "data": {
      "text/html": [
       "<div>\n",
       "<style scoped>\n",
       "    .dataframe tbody tr th:only-of-type {\n",
       "        vertical-align: middle;\n",
       "    }\n",
       "\n",
       "    .dataframe tbody tr th {\n",
       "        vertical-align: top;\n",
       "    }\n",
       "\n",
       "    .dataframe thead th {\n",
       "        text-align: right;\n",
       "    }\n",
       "</style>\n",
       "<table border=\"1\" class=\"dataframe\">\n",
       "  <thead>\n",
       "    <tr style=\"text-align: right;\">\n",
       "      <th></th>\n",
       "      <th>DAY_OF_WEEK</th>\n",
       "      <th>CARRIER_CODE</th>\n",
       "      <th>DEST</th>\n",
       "      <th>DEP_DELAY</th>\n",
       "      <th>SCHEDULED_DURATION</th>\n",
       "      <th>DISTANCE</th>\n",
       "      <th>SCHEDULED_DEPARTURE</th>\n",
       "      <th>ACTUAL_DEPATURE</th>\n",
       "      <th>SCHEDULED_ARRIVAL</th>\n",
       "      <th>Temperature</th>\n",
       "      <th>...</th>\n",
       "      <th>Wind Gust</th>\n",
       "      <th>Pressure</th>\n",
       "      <th>Condition</th>\n",
       "      <th>FLT_SCH_DEPATURE</th>\n",
       "      <th>FLT_SCH_ARRIVAL</th>\n",
       "      <th>TAXI_OUT</th>\n",
       "      <th>SPEED</th>\n",
       "      <th>Region</th>\n",
       "      <th>TOTAL_SCHEDULED</th>\n",
       "      <th>FLIGHT_TRAFFIC</th>\n",
       "    </tr>\n",
       "  </thead>\n",
       "  <tbody>\n",
       "    <tr>\n",
       "      <th>15</th>\n",
       "      <td>5</td>\n",
       "      <td>DL</td>\n",
       "      <td>SFO</td>\n",
       "      <td>EARLY</td>\n",
       "      <td>6.516667</td>\n",
       "      <td>4161.75324</td>\n",
       "      <td>420</td>\n",
       "      <td>414</td>\n",
       "      <td>631</td>\n",
       "      <td>47</td>\n",
       "      <td>...</td>\n",
       "      <td>29</td>\n",
       "      <td>30.0</td>\n",
       "      <td>Fair / Windy</td>\n",
       "      <td>17</td>\n",
       "      <td>21</td>\n",
       "      <td>16</td>\n",
       "      <td>638.632211</td>\n",
       "      <td>West</td>\n",
       "      <td>38</td>\n",
       "      <td>Medium</td>\n",
       "    </tr>\n",
       "    <tr>\n",
       "      <th>16</th>\n",
       "      <td>5</td>\n",
       "      <td>DL</td>\n",
       "      <td>SLC</td>\n",
       "      <td>EARLY</td>\n",
       "      <td>5.350000</td>\n",
       "      <td>3202.58660</td>\n",
       "      <td>419</td>\n",
       "      <td>414</td>\n",
       "      <td>620</td>\n",
       "      <td>47</td>\n",
       "      <td>...</td>\n",
       "      <td>29</td>\n",
       "      <td>30.0</td>\n",
       "      <td>Fair / Windy</td>\n",
       "      <td>17</td>\n",
       "      <td>21</td>\n",
       "      <td>25</td>\n",
       "      <td>598.614318</td>\n",
       "      <td>West</td>\n",
       "      <td>38</td>\n",
       "      <td>Medium</td>\n",
       "    </tr>\n",
       "    <tr>\n",
       "      <th>17</th>\n",
       "      <td>5</td>\n",
       "      <td>DL</td>\n",
       "      <td>BOS</td>\n",
       "      <td>EARLY</td>\n",
       "      <td>1.366667</td>\n",
       "      <td>300.94658</td>\n",
       "      <td>420</td>\n",
       "      <td>415</td>\n",
       "      <td>502</td>\n",
       "      <td>47</td>\n",
       "      <td>...</td>\n",
       "      <td>29</td>\n",
       "      <td>30.0</td>\n",
       "      <td>Fair / Windy</td>\n",
       "      <td>17</td>\n",
       "      <td>21</td>\n",
       "      <td>15</td>\n",
       "      <td>220.204815</td>\n",
       "      <td>North East</td>\n",
       "      <td>38</td>\n",
       "      <td>Medium</td>\n",
       "    </tr>\n",
       "    <tr>\n",
       "      <th>19</th>\n",
       "      <td>5</td>\n",
       "      <td>B6</td>\n",
       "      <td>SAV</td>\n",
       "      <td>EARLY</td>\n",
       "      <td>2.383333</td>\n",
       "      <td>1155.50612</td>\n",
       "      <td>419</td>\n",
       "      <td>417</td>\n",
       "      <td>562</td>\n",
       "      <td>47</td>\n",
       "      <td>...</td>\n",
       "      <td>29</td>\n",
       "      <td>30.0</td>\n",
       "      <td>Fair / Windy</td>\n",
       "      <td>17</td>\n",
       "      <td>21</td>\n",
       "      <td>14</td>\n",
       "      <td>484.827743</td>\n",
       "      <td>South</td>\n",
       "      <td>38</td>\n",
       "      <td>Medium</td>\n",
       "    </tr>\n",
       "    <tr>\n",
       "      <th>21</th>\n",
       "      <td>5</td>\n",
       "      <td>B6</td>\n",
       "      <td>ATL</td>\n",
       "      <td>ONTIME</td>\n",
       "      <td>2.566667</td>\n",
       "      <td>1223.09840</td>\n",
       "      <td>418</td>\n",
       "      <td>418</td>\n",
       "      <td>572</td>\n",
       "      <td>47</td>\n",
       "      <td>...</td>\n",
       "      <td>29</td>\n",
       "      <td>30.0</td>\n",
       "      <td>Fair / Windy</td>\n",
       "      <td>17</td>\n",
       "      <td>21</td>\n",
       "      <td>16</td>\n",
       "      <td>476.531844</td>\n",
       "      <td>South</td>\n",
       "      <td>38</td>\n",
       "      <td>Medium</td>\n",
       "    </tr>\n",
       "  </tbody>\n",
       "</table>\n",
       "<p>5 rows × 24 columns</p>\n",
       "</div>"
      ],
      "text/plain": [
       "   DAY_OF_WEEK CARRIER_CODE DEST DEP_DELAY  SCHEDULED_DURATION    DISTANCE  \\\n",
       "15           5           DL  SFO     EARLY            6.516667  4161.75324   \n",
       "16           5           DL  SLC     EARLY            5.350000  3202.58660   \n",
       "17           5           DL  BOS     EARLY            1.366667   300.94658   \n",
       "19           5           B6  SAV     EARLY            2.383333  1155.50612   \n",
       "21           5           B6  ATL    ONTIME            2.566667  1223.09840   \n",
       "\n",
       "    SCHEDULED_DEPARTURE  ACTUAL_DEPATURE  SCHEDULED_ARRIVAL  Temperature  ...  \\\n",
       "15                  420              414                631           47  ...   \n",
       "16                  419              414                620           47  ...   \n",
       "17                  420              415                502           47  ...   \n",
       "19                  419              417                562           47  ...   \n",
       "21                  418              418                572           47  ...   \n",
       "\n",
       "    Wind Gust  Pressure     Condition  FLT_SCH_DEPATURE  FLT_SCH_ARRIVAL  \\\n",
       "15         29      30.0  Fair / Windy                17               21   \n",
       "16         29      30.0  Fair / Windy                17               21   \n",
       "17         29      30.0  Fair / Windy                17               21   \n",
       "19         29      30.0  Fair / Windy                17               21   \n",
       "21         29      30.0  Fair / Windy                17               21   \n",
       "\n",
       "    TAXI_OUT       SPEED      Region  TOTAL_SCHEDULED  FLIGHT_TRAFFIC  \n",
       "15        16  638.632211        West               38          Medium  \n",
       "16        25  598.614318        West               38          Medium  \n",
       "17        15  220.204815  North East               38          Medium  \n",
       "19        14  484.827743       South               38          Medium  \n",
       "21        16  476.531844       South               38          Medium  \n",
       "\n",
       "[5 rows x 24 columns]"
      ]
     },
     "execution_count": 60,
     "metadata": {},
     "output_type": "execute_result"
    }
   ],
   "source": [
    "df1.head()"
   ]
  },
  {
   "cell_type": "markdown",
   "metadata": {},
   "source": [
    "#### Creating a new Dataset"
   ]
  },
  {
   "cell_type": "code",
   "execution_count": 58,
   "metadata": {},
   "outputs": [],
   "source": [
    "df1.to_csv('Taxi_out_processed.csv')"
   ]
  }
 ],
 "metadata": {
  "kernelspec": {
   "display_name": "Python 3",
   "language": "python",
   "name": "python3"
  },
  "language_info": {
   "codemirror_mode": {
    "name": "ipython",
    "version": 3
   },
   "file_extension": ".py",
   "mimetype": "text/x-python",
   "name": "python",
   "nbconvert_exporter": "python",
   "pygments_lexer": "ipython3",
   "version": "3.8.8"
  }
 },
 "nbformat": 4,
 "nbformat_minor": 4
}
